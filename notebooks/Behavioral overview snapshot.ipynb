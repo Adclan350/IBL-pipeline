{
 "cells": [
  {
   "cell_type": "code",
   "execution_count": 1,
   "metadata": {
    "scrolled": true
   },
   "outputs": [
    {
     "name": "stdout",
     "output_type": "stream",
     "text": [
      "Connecting austin@datajoint-rds.cyuksi65nrdq.us-east-1.rds.amazonaws.com:3306\n"
     ]
    }
   ],
   "source": [
    "import datajoint as dj\n",
    "from ibl_pipeline import reference, subject, action, acquisition, data, behavior\n",
    "import matplotlib.pyplot as plt\n",
    "import seaborn as sns\n",
    "from datetime import timedelta\n",
    "import matplotlib.dates as mdates\n",
    "import pandas as pd"
   ]
  },
  {
   "cell_type": "code",
   "execution_count": 2,
   "metadata": {},
   "outputs": [],
   "source": [
    "from psychofit import psychofit as psy"
   ]
  },
  {
   "cell_type": "code",
   "execution_count": 3,
   "metadata": {},
   "outputs": [
    {
     "name": "stdout",
     "output_type": "stream",
     "text": [
      "Connected to https://alyx.internationalbrainlab.org as vathes\n"
     ]
    }
   ],
   "source": [
    "from behavior_plots import *\n",
    "from load_mouse_data import *"
   ]
  },
  {
   "cell_type": "code",
   "execution_count": 4,
   "metadata": {},
   "outputs": [],
   "source": [
    "ibl17 = (subject.Subject() & 'subject_nickname = \"IBL_17\"').fetch1()"
   ]
  },
  {
   "cell_type": "code",
   "execution_count": null,
   "metadata": {},
   "outputs": [],
   "source": []
  },
  {
   "cell_type": "code",
   "execution_count": null,
   "metadata": {},
   "outputs": [],
   "source": [
    "def fix_date_axis(ax):\n",
    "    # deal with date axis and make nice looking \n",
    "    ax.xaxis_date()\n",
    "    ax.xaxis.set_major_locator(mdates.WeekdayLocator())\n",
    "    ax.xaxis.set_major_formatter(mdates.DateFormatter('%b-%d'))\n",
    "    for item in ax.get_xticklabels():\n",
    "        item.set_rotation(60)"
   ]
  },
  {
   "cell_type": "markdown",
   "metadata": {},
   "source": [
    "## Weight over time"
   ]
  },
  {
   "cell_type": "code",
   "execution_count": null,
   "metadata": {},
   "outputs": [],
   "source": [
    "wei = {}\n",
    "wei['date_time'], wei['weight'] = (action.Weighing() & ibl17).fetch('weighing_time', 'weight', order_by='weighing_time')"
   ]
  },
  {
   "cell_type": "code",
   "execution_count": null,
   "metadata": {},
   "outputs": [],
   "source": [
    "fig = plt.figure()\n",
    "ax = plt.subplot(1, 1, 1)\n",
    "sns.lineplot(x=\"date_time\", y=\"weight\", color=\"black\", markers=True, data=wei, ax=ax)\n",
    "sns.scatterplot(x=\"date_time\", y=\"weight\", color=\"black\", data=wei, ax=ax)\n",
    "ax.set(xlabel='', ylabel=\"Weight (g)\", \n",
    "xlim=[wei['date_time'].min()-timedelta(days=1), wei['date_time'].max()+timedelta(days=1)])\n",
    "fix_date_axis(ax)"
   ]
  },
  {
   "cell_type": "markdown",
   "metadata": {},
   "source": [
    "## Water intake"
   ]
  },
  {
   "cell_type": "code",
   "execution_count": 25,
   "metadata": {},
   "outputs": [],
   "source": [
    "def get_water(mousename):\n",
    "    w = (action.WaterAdministration() & ibl17).fetch(as_dict=True)\n",
    "    w = pd.DataFrame(w)\n",
    "    w.rename(columns={'administration_time':'date_time'}, inplace=True)\n",
    "    wei['date_time'] = pd.to_datetime(wei.date_time)\n",
    "    w.sort_values('date_time', inplace=True)\n",
    "    wei.reset_index(drop=True, inplace=True)\n",
    "    w['date'] = w['date_time'].dt.floor('D')\n",
    "    w['days'] = w.date - w.date[0]\n",
    "    w['days'] = w.days.dt.days\n",
    "    w = w.set_index('date')\n",
    "    w.index = pd.to_datetime(w.index)\n",
    "    wa_unstacked = w.pivot_table(index='date', \n",
    "        columns='watertype_name', values='water_administered', aggfunc='sum').reset_index()\n",
    "    wa_unstacked['date'] = pd.to_datetime(wa_unstacked.date)\n",
    "    wa_unstacked.set_index('date', inplace=True)\n",
    "    return wa_unstacked, w"
   ]
  },
  {
   "cell_type": "code",
   "execution_count": 30,
   "metadata": {},
   "outputs": [
    {
     "data": {
      "image/png": "[encoded data removed]",
      "text/plain": [
       "<Figure size 432x288 with 1 Axes>"
      ]
     },
     "metadata": {
      "needs_background": "light"
     },
     "output_type": "display_data"
    }
   ],
   "source": [
    "fig = plt.figure()\n",
    "ax = plt.subplot(1, 1, 1)\n",
    "sns.set_palette(\"colorblind\") # palette for water\n",
    "wa_unstacked, wa = get_water(ibl17)\n",
    "wa_unstacked.loc[:,['Water']].plot.bar(stacked=True, ax=ax)\n",
    "l = ax.legend()\n",
    "l.set_title('')\n",
    "ax.set(ylabel=\"Water intake (mL)\", xlabel='')\n",
    "\n",
    "# fix dates, known to be an issue in pandas/matplotlib\n",
    "ax.set_xticklabels([dt.strftime('%b-%d') if dt.weekday() is 1 else \"\" for dt in wa_unstacked.index.to_pydatetime()])\n",
    "for item in ax.get_xticklabels():\n",
    "    item.set_rotation(60)"
   ]
  },
  {
   "cell_type": "code",
   "execution_count": null,
   "metadata": {},
   "outputs": [],
   "source": []
  }
 ],
 "metadata": {
  "kernelspec": {
   "display_name": "Python 3",
   "language": "python",
   "name": "python3"
  },
  "language_info": {
   "codemirror_mode": {
    "name": "ipython",
    "version": 3
   },
   "file_extension": ".py",
   "mimetype": "text/x-python",
   "name": "python",
   "nbconvert_exporter": "python",
   "pygments_lexer": "ipython3",
   "version": "3.6.6"
  }
 },
 "nbformat": 4,
 "nbformat_minor": 2
}
