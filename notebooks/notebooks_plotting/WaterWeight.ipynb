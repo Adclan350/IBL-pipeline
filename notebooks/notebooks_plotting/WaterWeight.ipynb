{
 "cells": [
  {
   "cell_type": "code",
   "execution_count": 1,
   "metadata": {},
   "outputs": [
    {
     "name": "stdout",
     "output_type": "stream",
     "text": [
      "Connecting shan@datajoint.internationalbrainlab.org:3306\n"
     ]
    }
   ],
   "source": [
    "from ibl_pipeline import behavior as behavior_analyses\n",
    "from ibl_pipeline import behavior as behavior\n",
    "from ibl_pipeline import subject, acquisition, action\n",
    "from ibl_pipeline.utils import psychofit as psy\n",
    "import plotting_utils as putils\n",
    "import numpy as np\n",
    "import datetime\n",
    "import datajoint as dj\n",
    "import json\n",
    "import pandas as pd\n",
    "from uuid import UUID"
   ]
  },
  {
   "cell_type": "code",
   "execution_count": 2,
   "metadata": {},
   "outputs": [
    {
     "data": {
      "text/html": [
       "        <script type=\"text/javascript\">\n",
       "        window.PlotlyConfig = {MathJaxConfig: 'local'};\n",
       "        if (window.MathJax) {MathJax.Hub.Config({SVG: {font: \"STIX-Web\"}});}\n",
       "        if (typeof require !== 'undefined') {\n",
       "        require.undef(\"plotly\");\n",
       "        requirejs.config({\n",
       "            paths: {\n",
       "                'plotly': ['https://cdn.plot.ly/plotly-latest.min']\n",
       "            }\n",
       "        });\n",
       "        require(['plotly'], function(Plotly) {\n",
       "            window._Plotly = Plotly;\n",
       "        });\n",
       "        }\n",
       "        </script>\n",
       "        "
      ]
     },
     "metadata": {},
     "output_type": "display_data"
    }
   ],
   "source": [
    "import plotly\n",
    "import plotly.graph_objs as go\n",
    "import statsmodels.stats.proportion as smp\n",
    "plotly.offline.init_notebook_mode(connected=True)"
   ]
  },
  {
   "cell_type": "code",
   "execution_count": 3,
   "metadata": {},
   "outputs": [],
   "source": [
    "water_type_names = action.WaterType.fetch('watertype_name')\n",
    "water_type_colors = ['red', 'orange', 'blue', 'rgba(55, 128, 191, 0.7)', 'purple', 'rgba(50, 171, 96, 0.9)'] \n",
    "water_type_map = dict()\n",
    "# get date range\n",
    "d = putils.get_date_range(subj)\n",
    "\n",
    "for watertype, color in zip(water_type_names, water_type_colors):\n",
    "    water_type_map.update({watertype: color})"
   ]
  },
  {
   "cell_type": "code",
   "execution_count": 4,
   "metadata": {},
   "outputs": [
    {
     "data": {
      "application/vnd.plotly.v1+json": {
       "config": {
        "linkText": "Export to plot.ly",
        "plotlyServerURL": "https://plot.ly",
        "responsive": true,
        "showLink": false
       },
       "data": [
        {
         "legendgroup": "water_type",
         "marker": {
          "color": "rgba(55, 128, 191, 0.7)"
         },
         "name": "Water 10% Sucrose",
         "type": "bar",
         "uid": "d91b191c-8cf6-4eb8-8c02-fcf4114cbced",
         "x": [
          "2019-02-19",
          "2019-02-21",
          "2019-02-22",
          "2019-02-23",
          "2019-02-24",
          "2019-02-25",
          "2019-02-26",
          "2019-02-27",
          "2019-02-28",
          "2019-03-01",
          "2019-03-02",
          "2019-03-03",
          "2019-03-04",
          "2019-03-06",
          "2019-03-07",
          "2019-03-08",
          "2019-03-09",
          "2019-03-10",
          "2019-03-11",
          "2019-03-12",
          "2019-03-13",
          "2019-03-14",
          "2019-03-15",
          "2019-03-16",
          "2019-03-17",
          "2019-03-18",
          "2019-03-19",
          "2019-03-20",
          "2019-03-21",
          "2019-03-22",
          "2019-03-23",
          "2019-03-24",
          "2019-03-25",
          "2019-03-26",
          "2019-03-27",
          "2019-03-28",
          "2019-03-29",
          "2019-03-30",
          "2019-03-31",
          "2019-04-01",
          "2019-04-02",
          "2019-04-03",
          "2019-04-04",
          "2019-04-05",
          "2019-04-06",
          "2019-04-07",
          "2019-04-09",
          "2019-04-10",
          "2019-04-11",
          "2019-04-12",
          "2019-04-13",
          "2019-04-14",
          "2019-04-15",
          "2019-04-16",
          "2019-04-17",
          "2019-04-18",
          "2019-04-19",
          "2019-04-20",
          "2019-04-21",
          "2019-04-22",
          "2019-04-23",
          "2019-04-24",
          "2019-04-25",
          "2019-04-26",
          "2019-04-29",
          "2019-04-30",
          "2019-05-01",
          "2019-05-03",
          "2019-05-06",
          "2019-05-07",
          "2019-05-08",
          "2019-05-09",
          "2019-05-22",
          "2019-05-23"
         ],
         "y": [
          1.278,
          0.7231000000000001,
          null,
          null,
          null,
          null,
          null,
          null,
          null,
          null,
          null,
          null,
          null,
          null,
          null,
          0.5536,
          0.1683,
          null,
          0.5508,
          0.567,
          1.6173,
          0.36,
          1.9388,
          null,
          null,
          1.548,
          0.812,
          0.6698,
          2.0265,
          0.4284,
          null,
          null,
          0.511,
          0.9828,
          2.61,
          2.1035,
          1.5368,
          null,
          null,
          1.5774,
          1.1392,
          2.1328,
          1.5704,
          1.782,
          null,
          null,
          4.091,
          2.1644,
          2.3408,
          1.9737,
          null,
          null,
          2.6865,
          2.5636,
          2.2775,
          1.692,
          1.5203,
          null,
          null,
          1.2236,
          0.5874,
          1.0131,
          2.2034,
          1.0098,
          1.7367,
          1.338,
          1.8905,
          0.225,
          1.7595,
          0.5616,
          1.6031,
          1.224,
          0.6704,
          0.8075
         ],
         "yaxis": "y"
        },
        {
         "legendgroup": "water_type",
         "marker": {
          "color": "blue"
         },
         "name": "Water",
         "type": "bar",
         "uid": "bc67c32c-5a6b-4d17-a30e-fc35f53e3927",
         "x": [
          "2019-02-19",
          "2019-02-21",
          "2019-02-22",
          "2019-02-23",
          "2019-02-24",
          "2019-02-25",
          "2019-02-26",
          "2019-02-27",
          "2019-02-28",
          "2019-03-01",
          "2019-03-02",
          "2019-03-03",
          "2019-03-04",
          "2019-03-06",
          "2019-03-07",
          "2019-03-08",
          "2019-03-09",
          "2019-03-10",
          "2019-03-11",
          "2019-03-12",
          "2019-03-13",
          "2019-03-14",
          "2019-03-15",
          "2019-03-16",
          "2019-03-17",
          "2019-03-18",
          "2019-03-19",
          "2019-03-20",
          "2019-03-21",
          "2019-03-22",
          "2019-03-23",
          "2019-03-24",
          "2019-03-25",
          "2019-03-26",
          "2019-03-27",
          "2019-03-28",
          "2019-03-29",
          "2019-03-30",
          "2019-03-31",
          "2019-04-01",
          "2019-04-02",
          "2019-04-03",
          "2019-04-04",
          "2019-04-05",
          "2019-04-06",
          "2019-04-07",
          "2019-04-09",
          "2019-04-10",
          "2019-04-11",
          "2019-04-12",
          "2019-04-13",
          "2019-04-14",
          "2019-04-15",
          "2019-04-16",
          "2019-04-17",
          "2019-04-18",
          "2019-04-19",
          "2019-04-20",
          "2019-04-21",
          "2019-04-22",
          "2019-04-23",
          "2019-04-24",
          "2019-04-25",
          "2019-04-26",
          "2019-04-29",
          "2019-04-30",
          "2019-05-01",
          "2019-05-03",
          "2019-05-06",
          "2019-05-07",
          "2019-05-08",
          "2019-05-09",
          "2019-05-22",
          "2019-05-23"
         ],
         "y": [
          null,
          null,
          0,
          0,
          0,
          0,
          0,
          0,
          0,
          0,
          0,
          0,
          0,
          1,
          1,
          null,
          1,
          1,
          null,
          null,
          null,
          null,
          null,
          1,
          1,
          null,
          null,
          null,
          null,
          null,
          1,
          1,
          null,
          null,
          null,
          null,
          null,
          1,
          1,
          null,
          null,
          null,
          null,
          null,
          1,
          1,
          null,
          null,
          null,
          null,
          1,
          1,
          null,
          null,
          null,
          null,
          null,
          1,
          1,
          null,
          null,
          null,
          null,
          null,
          null,
          null,
          null,
          null,
          null,
          null,
          null,
          null,
          null,
          null
         ],
         "yaxis": "y"
        },
        {
         "legendgroup": "weight",
         "marker": {
          "color": "black",
          "line": {
           "color": "white",
           "width": 1
          },
          "size": 6
         },
         "mode": "lines+markers",
         "name": "Weight",
         "type": "scatter",
         "uid": "c66c6a53-bb2f-4fbe-bd59-1dac5c19f64a",
         "x": [
          "2019-02-19",
          "2019-02-19",
          "2019-02-21",
          "2019-02-21",
          "2019-03-05",
          "2019-03-06",
          "2019-03-07",
          "2019-03-08",
          "2019-03-09",
          "2019-03-11",
          "2019-03-12",
          "2019-03-13",
          "2019-03-13",
          "2019-03-14",
          "2019-03-15",
          "2019-03-18",
          "2019-03-19",
          "2019-03-20",
          "2019-03-21",
          "2019-03-22",
          "2019-03-25",
          "2019-03-26",
          "2019-03-27",
          "2019-03-28",
          "2019-03-29",
          "2019-04-01",
          "2019-04-02",
          "2019-04-03",
          "2019-04-04",
          "2019-04-04",
          "2019-04-05",
          "2019-04-08",
          "2019-04-09",
          "2019-04-09",
          "2019-04-10",
          "2019-04-11",
          "2019-04-12",
          "2019-04-15",
          "2019-04-16",
          "2019-04-17",
          "2019-04-18",
          "2019-04-19",
          "2019-04-22",
          "2019-04-23",
          "2019-04-24",
          "2019-04-24",
          "2019-04-25",
          "2019-04-26",
          "2019-04-29",
          "2019-04-30",
          "2019-05-01",
          "2019-05-03",
          "2019-05-06",
          "2019-05-07",
          "2019-05-08",
          "2019-05-09",
          "2019-05-22",
          "2019-05-23"
         ],
         "y": [
          17.45,
          18,
          17.6,
          17.3,
          22.9,
          21.6,
          20.5,
          20,
          19,
          19.5,
          19.8,
          19.5,
          19.5,
          20.5,
          19.5,
          20.33,
          20.1,
          19.01,
          19.5,
          19.5,
          18.07,
          19.7,
          19,
          20,
          19.5,
          19.33,
          18.9,
          18.6,
          18,
          18,
          18,
          18.9,
          18.9,
          18.9,
          19.1,
          19.3,
          20.7,
          18.9,
          18.9,
          20.7,
          19.3,
          18.78,
          18.5,
          18,
          19.5,
          19.5,
          21,
          19.5,
          19.5,
          20,
          20,
          21.09,
          20,
          19.5,
          19.2,
          19.25,
          20.8,
          20.7
         ],
         "yaxis": "y2"
        },
        {
         "legendgroup": "monday",
         "line": {
          "color": "gray",
          "dash": "dot",
          "width": 0.5
         },
         "mode": "lines",
         "name": "Mondays",
         "showlegend": true,
         "type": "scatter",
         "uid": "c9c5a8ef-bc3c-49d5-89f6-e0dfaff45ba2",
         "x": [
          "2019-02-11",
          "2019-02-11"
         ],
         "xaxis": "x",
         "y": [
          0,
          4.291
         ],
         "yaxis": "y"
        },
        {
         "legendgroup": "monday",
         "line": {
          "color": "gray",
          "dash": "dot",
          "width": 0.5
         },
         "mode": "lines",
         "name": "Mondays",
         "showlegend": false,
         "type": "scatter",
         "uid": "f97df9ab-ddf0-476c-a675-07d03c3e87f1",
         "x": [
          "2019-02-18",
          "2019-02-18"
         ],
         "xaxis": "x",
         "y": [
          0,
          4.291
         ],
         "yaxis": "y"
        },
        {
         "legendgroup": "monday",
         "line": {
          "color": "gray",
          "dash": "dot",
          "width": 0.5
         },
         "mode": "lines",
         "name": "Mondays",
         "showlegend": false,
         "type": "scatter",
         "uid": "fcf2857e-daeb-43bb-94b8-31fa652d8b44",
         "x": [
          "2019-02-25",
          "2019-02-25"
         ],
         "xaxis": "x",
         "y": [
          0,
          4.291
         ],
         "yaxis": "y"
        },
        {
         "legendgroup": "monday",
         "line": {
          "color": "gray",
          "dash": "dot",
          "width": 0.5
         },
         "mode": "lines",
         "name": "Mondays",
         "showlegend": false,
         "type": "scatter",
         "uid": "1e1bf717-c6c5-4628-a8ab-cd6862226e6e",
         "x": [
          "2019-03-04",
          "2019-03-04"
         ],
         "xaxis": "x",
         "y": [
          0,
          4.291
         ],
         "yaxis": "y"
        },
        {
         "legendgroup": "monday",
         "line": {
          "color": "gray",
          "dash": "dot",
          "width": 0.5
         },
         "mode": "lines",
         "name": "Mondays",
         "showlegend": false,
         "type": "scatter",
         "uid": "4b8977d0-77e6-4937-8492-28a45f1a48c2",
         "x": [
          "2019-03-11",
          "2019-03-11"
         ],
         "xaxis": "x",
         "y": [
          0,
          4.291
         ],
         "yaxis": "y"
        },
        {
         "legendgroup": "monday",
         "line": {
          "color": "gray",
          "dash": "dot",
          "width": 0.5
         },
         "mode": "lines",
         "name": "Mondays",
         "showlegend": false,
         "type": "scatter",
         "uid": "4a584ef0-1038-45ab-aaec-0fbc6f71c5b5",
         "x": [
          "2019-03-18",
          "2019-03-18"
         ],
         "xaxis": "x",
         "y": [
          0,
          4.291
         ],
         "yaxis": "y"
        },
        {
         "legendgroup": "monday",
         "line": {
          "color": "gray",
          "dash": "dot",
          "width": 0.5
         },
         "mode": "lines",
         "name": "Mondays",
         "showlegend": false,
         "type": "scatter",
         "uid": "aa853429-aed1-49a0-8c8c-f786c788dcc7",
         "x": [
          "2019-03-25",
          "2019-03-25"
         ],
         "xaxis": "x",
         "y": [
          0,
          4.291
         ],
         "yaxis": "y"
        },
        {
         "legendgroup": "monday",
         "line": {
          "color": "gray",
          "dash": "dot",
          "width": 0.5
         },
         "mode": "lines",
         "name": "Mondays",
         "showlegend": false,
         "type": "scatter",
         "uid": "7431050f-6e84-4e55-9c24-e42565f30553",
         "x": [
          "2019-04-01",
          "2019-04-01"
         ],
         "xaxis": "x",
         "y": [
          0,
          4.291
         ],
         "yaxis": "y"
        },
        {
         "legendgroup": "monday",
         "line": {
          "color": "gray",
          "dash": "dot",
          "width": 0.5
         },
         "mode": "lines",
         "name": "Mondays",
         "showlegend": false,
         "type": "scatter",
         "uid": "29b08d8e-5003-4dd6-b3f0-d02ad0fe0c46",
         "x": [
          "2019-04-08",
          "2019-04-08"
         ],
         "xaxis": "x",
         "y": [
          0,
          4.291
         ],
         "yaxis": "y"
        },
        {
         "legendgroup": "monday",
         "line": {
          "color": "gray",
          "dash": "dot",
          "width": 0.5
         },
         "mode": "lines",
         "name": "Mondays",
         "showlegend": false,
         "type": "scatter",
         "uid": "902bd0e2-7ddb-4bde-ae08-1307080731c3",
         "x": [
          "2019-04-15",
          "2019-04-15"
         ],
         "xaxis": "x",
         "y": [
          0,
          4.291
         ],
         "yaxis": "y"
        },
        {
         "legendgroup": "monday",
         "line": {
          "color": "gray",
          "dash": "dot",
          "width": 0.5
         },
         "mode": "lines",
         "name": "Mondays",
         "showlegend": false,
         "type": "scatter",
         "uid": "073f9fb5-7496-4918-b1c3-c803cb3c8bcc",
         "x": [
          "2019-04-22",
          "2019-04-22"
         ],
         "xaxis": "x",
         "y": [
          0,
          4.291
         ],
         "yaxis": "y"
        },
        {
         "legendgroup": "monday",
         "line": {
          "color": "gray",
          "dash": "dot",
          "width": 0.5
         },
         "mode": "lines",
         "name": "Mondays",
         "showlegend": false,
         "type": "scatter",
         "uid": "97ed57e7-22c4-4100-b2b3-c4c0d26da4ec",
         "x": [
          "2019-04-29",
          "2019-04-29"
         ],
         "xaxis": "x",
         "y": [
          0,
          4.291
         ],
         "yaxis": "y"
        },
        {
         "legendgroup": "monday",
         "line": {
          "color": "gray",
          "dash": "dot",
          "width": 0.5
         },
         "mode": "lines",
         "name": "Mondays",
         "showlegend": false,
         "type": "scatter",
         "uid": "a97abb69-ed93-48fc-8a40-4decb966d53c",
         "x": [
          "2019-05-06",
          "2019-05-06"
         ],
         "xaxis": "x",
         "y": [
          0,
          4.291
         ],
         "yaxis": "y"
        },
        {
         "legendgroup": "monday",
         "line": {
          "color": "gray",
          "dash": "dot",
          "width": 0.5
         },
         "mode": "lines",
         "name": "Mondays",
         "showlegend": false,
         "type": "scatter",
         "uid": "30e32458-3968-4b18-baf3-4f41136c4ecd",
         "x": [
          "2019-05-13",
          "2019-05-13"
         ],
         "xaxis": "x",
         "y": [
          0,
          4.291
         ],
         "yaxis": "y"
        },
        {
         "legendgroup": "monday",
         "line": {
          "color": "gray",
          "dash": "dot",
          "width": 0.5
         },
         "mode": "lines",
         "name": "Mondays",
         "showlegend": false,
         "type": "scatter",
         "uid": "85ec5fbc-5536-4f94-9e0d-be9fd4c8b5f8",
         "x": [
          "2019-05-20",
          "2019-05-20"
         ],
         "xaxis": "x",
         "y": [
          0,
          4.291
         ],
         "yaxis": "y"
        },
        {
         "legendgroup": "restriction",
         "line": {
          "color": "red",
          "width": 1
         },
         "mode": "lines",
         "name": "Water restriction start",
         "showlegend": true,
         "type": "scatter",
         "uid": "b6ae6e53-b470-4e9c-bc18-6eab9967c705",
         "x": [
          "2019-02-13",
          "2019-02-13"
         ],
         "y": [
          0,
          4.291
         ],
         "yaxis": "y"
        },
        {
         "legendgroup": "restriction",
         "line": {
          "color": "darkgreen",
          "width": 1
         },
         "mode": "lines",
         "name": "Water restriction end",
         "showlegend": true,
         "type": "scatter",
         "uid": "385699b9-5e21-4fa0-b591-a919154ff1ee",
         "x": [
          "2019-02-22",
          "2019-02-22"
         ],
         "y": [
          0,
          4.291
         ],
         "yaxis": "y"
        },
        {
         "legendgroup": "weight_ref",
         "line": {
          "color": "orange",
          "dash": "dashdot",
          "width": 1
         },
         "mode": "lines",
         "name": "85% reference weight",
         "showlegend": true,
         "type": "scatter",
         "uid": "7245fb48-da12-4cae-9147-2782fc1da81f",
         "x": [
          "2019-02-13",
          "2019-02-22"
         ],
         "y": [
          19.21,
          19.21
         ],
         "yaxis": "y2"
        },
        {
         "legendgroup": "weight_ref",
         "line": {
          "color": "red",
          "dash": "dashdot",
          "width": 1
         },
         "mode": "lines",
         "name": "75% reference weight",
         "showlegend": true,
         "type": "scatter",
         "uid": "1f2d40de-c106-41d6-8d4d-6a7af2c2966f",
         "x": [
          "2019-02-13",
          "2019-02-22"
         ],
         "y": [
          16.950000000000003,
          16.950000000000003
         ],
         "yaxis": "y2"
        },
        {
         "legendgroup": "restriction",
         "line": {
          "color": "red",
          "width": 1
         },
         "mode": "lines",
         "name": "Water restriction start",
         "showlegend": false,
         "type": "scatter",
         "uid": "67ac19c6-0528-43db-9a0a-4fd57ea828b1",
         "x": [
          "2019-03-08",
          "2019-03-08"
         ],
         "y": [
          0,
          4.291
         ],
         "yaxis": "y"
        },
        {
         "legendgroup": "restriction",
         "line": {
          "color": "darkgreen",
          "width": 1
         },
         "mode": "lines",
         "name": "Water restriction end",
         "showlegend": false,
         "type": "scatter",
         "uid": "287924b4-fccc-4bdd-b41c-1b760bbf1158",
         "x": [
          "2019-05-10",
          "2019-05-10"
         ],
         "y": [
          0,
          4.291
         ],
         "yaxis": "y"
        },
        {
         "legendgroup": "weight_ref",
         "line": {
          "color": "orange",
          "dash": "dashdot",
          "width": 1
         },
         "mode": "lines",
         "name": "85% reference weight",
         "showlegend": false,
         "type": "scatter",
         "uid": "972cf799-f2eb-498e-90a1-678d066fb24e",
         "x": [
          "2019-03-08",
          "2019-05-10"
         ],
         "y": [
          19.465,
          19.465
         ],
         "yaxis": "y2"
        },
        {
         "legendgroup": "weight_ref",
         "line": {
          "color": "red",
          "dash": "dashdot",
          "width": 1
         },
         "mode": "lines",
         "name": "75% reference weight",
         "showlegend": false,
         "type": "scatter",
         "uid": "284d542e-e67f-4ab5-a6ed-ca1662d519fe",
         "x": [
          "2019-03-08",
          "2019-05-10"
         ],
         "y": [
          17.174999999999997,
          17.174999999999997
         ],
         "yaxis": "y2"
        }
       ],
       "layout": {
        "barmode": "stack",
        "height": 500,
        "legend": {
         "orientation": "v",
         "x": 1.1,
         "y": 0.9
        },
        "title": {
         "text": "Water intake and weight",
         "x": 0.3,
         "y": 0.9
        },
        "width": 1000,
        "xaxis": {
         "range": [
          "2019-02-10",
          "2019-05-26"
         ],
         "title": {
          "text": "Date"
         }
        },
        "yaxis": {
         "range": [
          0,
          4.291
         ],
         "title": {
          "text": "Water intake (mL)"
         }
        },
        "yaxis2": {
         "overlaying": "y",
         "side": "right",
         "title": {
          "text": "Weight (g)"
         }
        }
       }
      },
      "text/html": [
       "<div>\n",
       "        \n",
       "        \n",
       "            <div id=\"895b2723-f4ae-4549-924e-be25299ac92c\" class=\"plotly-graph-div\" style=\"height:500px; width:1000px;\"></div>\n",
       "            <script type=\"text/javascript\">\n",
       "                require([\"plotly\"], function(Plotly) {\n",
       "                    window.PLOTLYENV=window.PLOTLYENV || {};\n",
       "                    window.PLOTLYENV.BASE_URL='https://plot.ly';\n",
       "                    \n",
       "                if (document.getElementById(\"895b2723-f4ae-4549-924e-be25299ac92c\")) {\n",
       "                    Plotly.newPlot(\n",
       "                        '895b2723-f4ae-4549-924e-be25299ac92c',\n",
       "                        [{\"legendgroup\": \"water_type\", \"marker\": {\"color\": \"rgba(55, 128, 191, 0.7)\"}, \"name\": \"Water 10% Sucrose\", \"type\": \"bar\", \"uid\": \"f0debd50-3502-4cf4-a812-6a62ba91c2e5\", \"x\": [\"2019-02-19\", \"2019-02-21\", \"2019-02-22\", \"2019-02-23\", \"2019-02-24\", \"2019-02-25\", \"2019-02-26\", \"2019-02-27\", \"2019-02-28\", \"2019-03-01\", \"2019-03-02\", \"2019-03-03\", \"2019-03-04\", \"2019-03-06\", \"2019-03-07\", \"2019-03-08\", \"2019-03-09\", \"2019-03-10\", \"2019-03-11\", \"2019-03-12\", \"2019-03-13\", \"2019-03-14\", \"2019-03-15\", \"2019-03-16\", \"2019-03-17\", \"2019-03-18\", \"2019-03-19\", \"2019-03-20\", \"2019-03-21\", \"2019-03-22\", \"2019-03-23\", \"2019-03-24\", \"2019-03-25\", \"2019-03-26\", \"2019-03-27\", \"2019-03-28\", \"2019-03-29\", \"2019-03-30\", \"2019-03-31\", \"2019-04-01\", \"2019-04-02\", \"2019-04-03\", \"2019-04-04\", \"2019-04-05\", \"2019-04-06\", \"2019-04-07\", \"2019-04-09\", \"2019-04-10\", \"2019-04-11\", \"2019-04-12\", \"2019-04-13\", \"2019-04-14\", \"2019-04-15\", \"2019-04-16\", \"2019-04-17\", \"2019-04-18\", \"2019-04-19\", \"2019-04-20\", \"2019-04-21\", \"2019-04-22\", \"2019-04-23\", \"2019-04-24\", \"2019-04-25\", \"2019-04-26\", \"2019-04-29\", \"2019-04-30\", \"2019-05-01\", \"2019-05-03\", \"2019-05-06\", \"2019-05-07\", \"2019-05-08\", \"2019-05-09\", \"2019-05-22\", \"2019-05-23\"], \"y\": [1.278, 0.7231000000000001, null, null, null, null, null, null, null, null, null, null, null, null, null, 0.5536, 0.1683, null, 0.5508, 0.567, 1.6173, 0.36, 1.9388, null, null, 1.548, 0.812, 0.6698, 2.0265, 0.4284, null, null, 0.511, 0.9828, 2.61, 2.1035, 1.5368, null, null, 1.5774, 1.1392, 2.1328, 1.5704, 1.782, null, null, 4.091, 2.1644, 2.3408, 1.9737, null, null, 2.6865, 2.5636, 2.2775, 1.692, 1.5203, null, null, 1.2236, 0.5874, 1.0131, 2.2034, 1.0098, 1.7367, 1.338, 1.8905, 0.225, 1.7595, 0.5616, 1.6031, 1.224, 0.6704, 0.8075], \"yaxis\": \"y\"}, {\"legendgroup\": \"water_type\", \"marker\": {\"color\": \"blue\"}, \"name\": \"Water\", \"type\": \"bar\", \"uid\": \"27a9ff9c-55c9-448f-b73e-c97b0f4a4163\", \"x\": [\"2019-02-19\", \"2019-02-21\", \"2019-02-22\", \"2019-02-23\", \"2019-02-24\", \"2019-02-25\", \"2019-02-26\", \"2019-02-27\", \"2019-02-28\", \"2019-03-01\", \"2019-03-02\", \"2019-03-03\", \"2019-03-04\", \"2019-03-06\", \"2019-03-07\", \"2019-03-08\", \"2019-03-09\", \"2019-03-10\", \"2019-03-11\", \"2019-03-12\", \"2019-03-13\", \"2019-03-14\", \"2019-03-15\", \"2019-03-16\", \"2019-03-17\", \"2019-03-18\", \"2019-03-19\", \"2019-03-20\", \"2019-03-21\", \"2019-03-22\", \"2019-03-23\", \"2019-03-24\", \"2019-03-25\", \"2019-03-26\", \"2019-03-27\", \"2019-03-28\", \"2019-03-29\", \"2019-03-30\", \"2019-03-31\", \"2019-04-01\", \"2019-04-02\", \"2019-04-03\", \"2019-04-04\", \"2019-04-05\", \"2019-04-06\", \"2019-04-07\", \"2019-04-09\", \"2019-04-10\", \"2019-04-11\", \"2019-04-12\", \"2019-04-13\", \"2019-04-14\", \"2019-04-15\", \"2019-04-16\", \"2019-04-17\", \"2019-04-18\", \"2019-04-19\", \"2019-04-20\", \"2019-04-21\", \"2019-04-22\", \"2019-04-23\", \"2019-04-24\", \"2019-04-25\", \"2019-04-26\", \"2019-04-29\", \"2019-04-30\", \"2019-05-01\", \"2019-05-03\", \"2019-05-06\", \"2019-05-07\", \"2019-05-08\", \"2019-05-09\", \"2019-05-22\", \"2019-05-23\"], \"y\": [null, null, 0.0, 0.0, 0.0, 0.0, 0.0, 0.0, 0.0, 0.0, 0.0, 0.0, 0.0, 1.0, 1.0, null, 1.0, 1.0, null, null, null, null, null, 1.0, 1.0, null, null, null, null, null, 1.0, 1.0, null, null, null, null, null, 1.0, 1.0, null, null, null, null, null, 1.0, 1.0, null, null, null, null, 1.0, 1.0, null, null, null, null, null, 1.0, 1.0, null, null, null, null, null, null, null, null, null, null, null, null, null, null, null], \"yaxis\": \"y\"}, {\"legendgroup\": \"weight\", \"marker\": {\"color\": \"black\", \"line\": {\"color\": \"white\", \"width\": 1}, \"size\": 6}, \"mode\": \"lines+markers\", \"name\": \"Weight\", \"type\": \"scatter\", \"uid\": \"713ced85-0da3-4e57-a7c0-bc65bc7e3175\", \"x\": [\"2019-02-19\", \"2019-02-19\", \"2019-02-21\", \"2019-02-21\", \"2019-03-05\", \"2019-03-06\", \"2019-03-07\", \"2019-03-08\", \"2019-03-09\", \"2019-03-11\", \"2019-03-12\", \"2019-03-13\", \"2019-03-13\", \"2019-03-14\", \"2019-03-15\", \"2019-03-18\", \"2019-03-19\", \"2019-03-20\", \"2019-03-21\", \"2019-03-22\", \"2019-03-25\", \"2019-03-26\", \"2019-03-27\", \"2019-03-28\", \"2019-03-29\", \"2019-04-01\", \"2019-04-02\", \"2019-04-03\", \"2019-04-04\", \"2019-04-04\", \"2019-04-05\", \"2019-04-08\", \"2019-04-09\", \"2019-04-09\", \"2019-04-10\", \"2019-04-11\", \"2019-04-12\", \"2019-04-15\", \"2019-04-16\", \"2019-04-17\", \"2019-04-18\", \"2019-04-19\", \"2019-04-22\", \"2019-04-23\", \"2019-04-24\", \"2019-04-24\", \"2019-04-25\", \"2019-04-26\", \"2019-04-29\", \"2019-04-30\", \"2019-05-01\", \"2019-05-03\", \"2019-05-06\", \"2019-05-07\", \"2019-05-08\", \"2019-05-09\", \"2019-05-22\", \"2019-05-23\"], \"y\": [17.45, 18.0, 17.6, 17.3, 22.9, 21.6, 20.5, 20.0, 19.0, 19.5, 19.8, 19.5, 19.5, 20.5, 19.5, 20.33, 20.1, 19.01, 19.5, 19.5, 18.07, 19.7, 19.0, 20.0, 19.5, 19.33, 18.9, 18.6, 18.0, 18.0, 18.0, 18.9, 18.9, 18.9, 19.1, 19.3, 20.7, 18.9, 18.9, 20.7, 19.3, 18.78, 18.5, 18.0, 19.5, 19.5, 21.0, 19.5, 19.5, 20.0, 20.0, 21.09, 20.0, 19.5, 19.2, 19.25, 20.8, 20.7], \"yaxis\": \"y2\"}, {\"legendgroup\": \"monday\", \"line\": {\"color\": \"gray\", \"dash\": \"dot\", \"width\": 0.5}, \"mode\": \"lines\", \"name\": \"Mondays\", \"showlegend\": true, \"type\": \"scatter\", \"uid\": \"8e5240da-bb9c-47b9-af59-48ad6b39fcf4\", \"x\": [\"2019-02-11\", \"2019-02-11\"], \"xaxis\": \"x\", \"y\": [0, 4.291], \"yaxis\": \"y\"}, {\"legendgroup\": \"monday\", \"line\": {\"color\": \"gray\", \"dash\": \"dot\", \"width\": 0.5}, \"mode\": \"lines\", \"name\": \"Mondays\", \"showlegend\": false, \"type\": \"scatter\", \"uid\": \"15186018-470e-472a-886d-7c134f717d1e\", \"x\": [\"2019-02-18\", \"2019-02-18\"], \"xaxis\": \"x\", \"y\": [0, 4.291], \"yaxis\": \"y\"}, {\"legendgroup\": \"monday\", \"line\": {\"color\": \"gray\", \"dash\": \"dot\", \"width\": 0.5}, \"mode\": \"lines\", \"name\": \"Mondays\", \"showlegend\": false, \"type\": \"scatter\", \"uid\": \"52ec55e4-4118-40ae-b446-57b7c9e14ae4\", \"x\": [\"2019-02-25\", \"2019-02-25\"], \"xaxis\": \"x\", \"y\": [0, 4.291], \"yaxis\": \"y\"}, {\"legendgroup\": \"monday\", \"line\": {\"color\": \"gray\", \"dash\": \"dot\", \"width\": 0.5}, \"mode\": \"lines\", \"name\": \"Mondays\", \"showlegend\": false, \"type\": \"scatter\", \"uid\": \"5a0172b0-1bdd-474e-8ff2-03da1ca761e3\", \"x\": [\"2019-03-04\", \"2019-03-04\"], \"xaxis\": \"x\", \"y\": [0, 4.291], \"yaxis\": \"y\"}, {\"legendgroup\": \"monday\", \"line\": {\"color\": \"gray\", \"dash\": \"dot\", \"width\": 0.5}, \"mode\": \"lines\", \"name\": \"Mondays\", \"showlegend\": false, \"type\": \"scatter\", \"uid\": \"2267224d-e0bd-4103-9d45-e10a991486fd\", \"x\": [\"2019-03-11\", \"2019-03-11\"], \"xaxis\": \"x\", \"y\": [0, 4.291], \"yaxis\": \"y\"}, {\"legendgroup\": \"monday\", \"line\": {\"color\": \"gray\", \"dash\": \"dot\", \"width\": 0.5}, \"mode\": \"lines\", \"name\": \"Mondays\", \"showlegend\": false, \"type\": \"scatter\", \"uid\": \"0d8adc3e-743b-4441-bc90-de34151db98e\", \"x\": [\"2019-03-18\", \"2019-03-18\"], \"xaxis\": \"x\", \"y\": [0, 4.291], \"yaxis\": \"y\"}, {\"legendgroup\": \"monday\", \"line\": {\"color\": \"gray\", \"dash\": \"dot\", \"width\": 0.5}, \"mode\": \"lines\", \"name\": \"Mondays\", \"showlegend\": false, \"type\": \"scatter\", \"uid\": \"0ff91ce2-cae3-46e0-b17c-892336d2ed7e\", \"x\": [\"2019-03-25\", \"2019-03-25\"], \"xaxis\": \"x\", \"y\": [0, 4.291], \"yaxis\": \"y\"}, {\"legendgroup\": \"monday\", \"line\": {\"color\": \"gray\", \"dash\": \"dot\", \"width\": 0.5}, \"mode\": \"lines\", \"name\": \"Mondays\", \"showlegend\": false, \"type\": \"scatter\", \"uid\": \"d6581faf-0b2c-4b49-a771-ecf54df46c10\", \"x\": [\"2019-04-01\", \"2019-04-01\"], \"xaxis\": \"x\", \"y\": [0, 4.291], \"yaxis\": \"y\"}, {\"legendgroup\": \"monday\", \"line\": {\"color\": \"gray\", \"dash\": \"dot\", \"width\": 0.5}, \"mode\": \"lines\", \"name\": \"Mondays\", \"showlegend\": false, \"type\": \"scatter\", \"uid\": \"9a229b26-58b2-4419-8d3e-ce316ae73613\", \"x\": [\"2019-04-08\", \"2019-04-08\"], \"xaxis\": \"x\", \"y\": [0, 4.291], \"yaxis\": \"y\"}, {\"legendgroup\": \"monday\", \"line\": {\"color\": \"gray\", \"dash\": \"dot\", \"width\": 0.5}, \"mode\": \"lines\", \"name\": \"Mondays\", \"showlegend\": false, \"type\": \"scatter\", \"uid\": \"06a2e651-022f-47d3-98fc-d2baf29f15f7\", \"x\": [\"2019-04-15\", \"2019-04-15\"], \"xaxis\": \"x\", \"y\": [0, 4.291], \"yaxis\": \"y\"}, {\"legendgroup\": \"monday\", \"line\": {\"color\": \"gray\", \"dash\": \"dot\", \"width\": 0.5}, \"mode\": \"lines\", \"name\": \"Mondays\", \"showlegend\": false, \"type\": \"scatter\", \"uid\": \"e879f6aa-774b-49a7-92f6-d4a431b8cdd9\", \"x\": [\"2019-04-22\", \"2019-04-22\"], \"xaxis\": \"x\", \"y\": [0, 4.291], \"yaxis\": \"y\"}, {\"legendgroup\": \"monday\", \"line\": {\"color\": \"gray\", \"dash\": \"dot\", \"width\": 0.5}, \"mode\": \"lines\", \"name\": \"Mondays\", \"showlegend\": false, \"type\": \"scatter\", \"uid\": \"f46e8530-757c-451e-9d89-32325471b6f8\", \"x\": [\"2019-04-29\", \"2019-04-29\"], \"xaxis\": \"x\", \"y\": [0, 4.291], \"yaxis\": \"y\"}, {\"legendgroup\": \"monday\", \"line\": {\"color\": \"gray\", \"dash\": \"dot\", \"width\": 0.5}, \"mode\": \"lines\", \"name\": \"Mondays\", \"showlegend\": false, \"type\": \"scatter\", \"uid\": \"e73a2c46-c714-437e-a614-303e7ed3931d\", \"x\": [\"2019-05-06\", \"2019-05-06\"], \"xaxis\": \"x\", \"y\": [0, 4.291], \"yaxis\": \"y\"}, {\"legendgroup\": \"monday\", \"line\": {\"color\": \"gray\", \"dash\": \"dot\", \"width\": 0.5}, \"mode\": \"lines\", \"name\": \"Mondays\", \"showlegend\": false, \"type\": \"scatter\", \"uid\": \"ebdd8625-77b7-49c2-befe-faf93d349aa0\", \"x\": [\"2019-05-13\", \"2019-05-13\"], \"xaxis\": \"x\", \"y\": [0, 4.291], \"yaxis\": \"y\"}, {\"legendgroup\": \"monday\", \"line\": {\"color\": \"gray\", \"dash\": \"dot\", \"width\": 0.5}, \"mode\": \"lines\", \"name\": \"Mondays\", \"showlegend\": false, \"type\": \"scatter\", \"uid\": \"dc51abfa-b52c-40c2-a3bf-f549f03665f7\", \"x\": [\"2019-05-20\", \"2019-05-20\"], \"xaxis\": \"x\", \"y\": [0, 4.291], \"yaxis\": \"y\"}, {\"legendgroup\": \"restriction\", \"line\": {\"color\": \"red\", \"width\": 1}, \"mode\": \"lines\", \"name\": \"Water restriction start\", \"showlegend\": true, \"type\": \"scatter\", \"uid\": \"6cdfb77f-ce6c-450c-9067-5ceea314955d\", \"x\": [\"2019-02-13\", \"2019-02-13\"], \"y\": [0, 4.291], \"yaxis\": \"y\"}, {\"legendgroup\": \"restriction\", \"line\": {\"color\": \"darkgreen\", \"width\": 1}, \"mode\": \"lines\", \"name\": \"Water restriction end\", \"showlegend\": true, \"type\": \"scatter\", \"uid\": \"a3772033-e0bf-40ad-a05a-7b5f803aca0d\", \"x\": [\"2019-02-22\", \"2019-02-22\"], \"y\": [0, 4.291], \"yaxis\": \"y\"}, {\"legendgroup\": \"weight_ref\", \"line\": {\"color\": \"orange\", \"dash\": \"dashdot\", \"width\": 1}, \"mode\": \"lines\", \"name\": \"85% reference weight\", \"showlegend\": true, \"type\": \"scatter\", \"uid\": \"4afc427a-bde6-40c4-b501-15aa2720b002\", \"x\": [\"2019-02-13\", \"2019-02-22\"], \"y\": [19.21, 19.21], \"yaxis\": \"y2\"}, {\"legendgroup\": \"weight_ref\", \"line\": {\"color\": \"red\", \"dash\": \"dashdot\", \"width\": 1}, \"mode\": \"lines\", \"name\": \"75% reference weight\", \"showlegend\": true, \"type\": \"scatter\", \"uid\": \"47ce708d-92b7-4ca6-8a7d-e88cd96d2c93\", \"x\": [\"2019-02-13\", \"2019-02-22\"], \"y\": [16.950000000000003, 16.950000000000003], \"yaxis\": \"y2\"}, {\"legendgroup\": \"restriction\", \"line\": {\"color\": \"red\", \"width\": 1}, \"mode\": \"lines\", \"name\": \"Water restriction start\", \"showlegend\": false, \"type\": \"scatter\", \"uid\": \"2d937902-f765-4694-85af-a1b3d9ac0466\", \"x\": [\"2019-03-08\", \"2019-03-08\"], \"y\": [0, 4.291], \"yaxis\": \"y\"}, {\"legendgroup\": \"restriction\", \"line\": {\"color\": \"darkgreen\", \"width\": 1}, \"mode\": \"lines\", \"name\": \"Water restriction end\", \"showlegend\": false, \"type\": \"scatter\", \"uid\": \"4a846fd3-75ec-401e-9508-89ac313c5669\", \"x\": [\"2019-05-10\", \"2019-05-10\"], \"y\": [0, 4.291], \"yaxis\": \"y\"}, {\"legendgroup\": \"weight_ref\", \"line\": {\"color\": \"orange\", \"dash\": \"dashdot\", \"width\": 1}, \"mode\": \"lines\", \"name\": \"85% reference weight\", \"showlegend\": false, \"type\": \"scatter\", \"uid\": \"6006b729-fc68-4194-81c7-4ba57b3c2a22\", \"x\": [\"2019-03-08\", \"2019-05-10\"], \"y\": [19.465, 19.465], \"yaxis\": \"y2\"}, {\"legendgroup\": \"weight_ref\", \"line\": {\"color\": \"red\", \"dash\": \"dashdot\", \"width\": 1}, \"mode\": \"lines\", \"name\": \"75% reference weight\", \"showlegend\": false, \"type\": \"scatter\", \"uid\": \"f9e45c45-f430-4ae5-972b-dd53008c019b\", \"x\": [\"2019-03-08\", \"2019-05-10\"], \"y\": [17.174999999999997, 17.174999999999997], \"yaxis\": \"y2\"}],\n",
       "                        {\"barmode\": \"stack\", \"height\": 500, \"legend\": {\"orientation\": \"v\", \"x\": 1.1, \"y\": 0.9}, \"title\": {\"text\": \"Water intake and weight\", \"x\": 0.3, \"y\": 0.9}, \"width\": 1000, \"xaxis\": {\"range\": [\"2019-02-10\", \"2019-05-26\"], \"title\": {\"text\": \"Date\"}}, \"yaxis\": {\"range\": [0, 4.291], \"title\": {\"text\": \"Water intake (mL)\"}}, \"yaxis2\": {\"overlaying\": \"y\", \"side\": \"right\", \"title\": {\"text\": \"Weight (g)\"}}},\n",
       "                        {\"showLink\": false, \"linkText\": \"Export to plot.ly\", \"plotlyServerURL\": \"https://plot.ly\", \"responsive\": true}\n",
       "                    ).then(function(){\n",
       "                            \n",
       "var gd = document.getElementById('895b2723-f4ae-4549-924e-be25299ac92c');\n",
       "var x = new MutationObserver(function (mutations, observer) {{\n",
       "        var display = window.getComputedStyle(gd).display;\n",
       "        if (!display || display === 'none') {{\n",
       "            console.log([gd, 'removed!']);\n",
       "            Plotly.purge(gd);\n",
       "            observer.disconnect();\n",
       "        }}\n",
       "}});\n",
       "\n",
       "// Listen for the removal of the full notebook cells\n",
       "var notebookContainer = gd.closest('#notebook-container');\n",
       "if (notebookContainer) {{\n",
       "    x.observe(notebookContainer, {childList: true});\n",
       "}}\n",
       "\n",
       "// Listen for the clearing of the current output cell\n",
       "var outputEl = gd.closest('.output');\n",
       "if (outputEl) {{\n",
       "    x.observe(outputEl, {childList: true});\n",
       "}}\n",
       "\n",
       "                        })\n",
       "                };\n",
       "                });\n",
       "            </script>\n",
       "        </div>"
      ]
     },
     "metadata": {},
     "output_type": "display_data"
    }
   ],
   "source": [
    "subj = subject.Subject & {'subject_nickname': 'ibl_witten_10'}\n",
    "# get water and date\n",
    "water_info_query = (action.WaterAdministration & subj).proj(\n",
    "    'water_administered', 'watertype_name', water_date='DATE(administration_time)')\n",
    "water_info = water_info_query.fetch(as_dict=True)\n",
    "water_info = pd.DataFrame(water_info)\n",
    "water_types = water_info.watertype_name.unique()\n",
    "water_info_type = water_info.pivot_table(\n",
    "    index='water_date', columns='watertype_name', values='water_administered', aggfunc='sum')\n",
    "max_water_intake = np.nanmax(water_info_type.values) + 0.2\n",
    "yrange_water = [0, max_water_intake]\n",
    "water_info_type = water_info_type.where((pd.notnull(water_info_type)), None)\n",
    "weight_info_query = (action.Weighing & subj).proj(\n",
    "    'weight', weighing_date='DATE(weighing_time)')\n",
    "weight_info = weight_info_query.fetch(as_dict=True)\n",
    "weight_info = pd.DataFrame(weight_info)\n",
    "weight_info = weight_info.where((pd.notnull(weight_info)), None)\n",
    "\n",
    "# get water restriction period\n",
    "water_restrictions = (action.WaterRestriction & subj).proj(\n",
    "    'reference_weight',\n",
    "    res_start='DATE(restriction_start_time)', res_end='DATE(restriction_end_time)')\n",
    "\n",
    "\n",
    "data = [\n",
    "    go.Bar(\n",
    "        x = [t.strftime('%Y-%m-%d') for t in water_info_type.index.tolist()],\n",
    "        y = water_info_type[water_type].tolist(),\n",
    "        marker = dict(color = water_type_map[water_type]),\n",
    "        name = water_type,\n",
    "        yaxis = 'y1',\n",
    "        legendgroup='water_type'\n",
    "    )\n",
    "    for water_type in water_types\n",
    "]\n",
    "\n",
    "data.append(\n",
    "    go.Scatter(\n",
    "        x=[t.strftime('%Y-%m-%d') for t in weight_info['weighing_date'].tolist()],\n",
    "        y=weight_info['weight'].tolist(),\n",
    "        mode='lines+markers',\n",
    "        name='Weight',\n",
    "        marker=dict(\n",
    "            size=6,\n",
    "            color='black',\n",
    "            line = dict(\n",
    "            color = 'white',\n",
    "            width = 1)\n",
    "        ),\n",
    "        legendgroup='weight',\n",
    "        yaxis = 'y2'\n",
    "    ))\n",
    "\n",
    "# monday marks\n",
    "data = putils.create_monday_plot(data, yrange_water, d['mondays'])\n",
    "\n",
    "# water restriction marks and reference weight marks\n",
    "for iwater, water_res in enumerate(water_restrictions.fetch(as_dict=True)):\n",
    "    \n",
    "    if iwater==0:\n",
    "        show_res_legend = True\n",
    "    else:\n",
    "        show_res_legend = False\n",
    "    \n",
    "    res_start = water_res['res_start'].strftime('%Y-%m-%d')\n",
    "    \n",
    "    if water_res['res_end']:\n",
    "        res_end = water_res['res_end'].strftime('%Y-%m-%d')\n",
    "    else:\n",
    "        res_end = last_date_str\n",
    "    data.append(\n",
    "        go.Scatter(\n",
    "            x=[res_start, res_start],\n",
    "            y=yrange_water,\n",
    "            mode=\"lines\",\n",
    "            line=dict(\n",
    "                width=1,\n",
    "                color='red',\n",
    "            ),\n",
    "            name='Water restriction start',\n",
    "            yaxis='y1',\n",
    "            showlegend=show_res_legend,\n",
    "            legendgroup='restriction'\n",
    "        )\n",
    "    )\n",
    "    \n",
    "    if water_res['res_end']:\n",
    "\n",
    "        data.append(\n",
    "            go.Scatter(\n",
    "                x=[res_end, res_end],\n",
    "                y=yrange_water,\n",
    "                mode=\"lines\",\n",
    "                line=dict(\n",
    "                    width=1,\n",
    "                    color='darkgreen',\n",
    "                ),\n",
    "                name='Water restriction end',\n",
    "                yaxis='y1',\n",
    "                showlegend=show_res_legend,\n",
    "                legendgroup='restriction'\n",
    "            )\n",
    "        )\n",
    "    \n",
    "     \n",
    "    data.append(\n",
    "        go.Scatter(\n",
    "            x=[res_start, res_end],\n",
    "            y=[water_res['reference_weight']*0.85, water_res['reference_weight']*0.85],\n",
    "            mode=\"lines\",\n",
    "            line=dict(\n",
    "                width=1,\n",
    "                color='orange',\n",
    "                dash='dashdot'\n",
    "            ),\n",
    "            name='85% reference weight',\n",
    "            yaxis='y2',\n",
    "            showlegend=show_res_legend,\n",
    "            legendgroup='weight_ref'\n",
    "        )\n",
    "    )\n",
    "    \n",
    "    data.append(\n",
    "        go.Scatter(\n",
    "            x=[res_start, res_end],\n",
    "            y=[water_res['reference_weight']*0.75, water_res['reference_weight']*0.75],\n",
    "            mode=\"lines\",\n",
    "            line=dict(\n",
    "                width=1,\n",
    "                color='red',\n",
    "                dash='dashdot'\n",
    "            ),\n",
    "            name='75% reference weight',\n",
    "            yaxis='y2',\n",
    "            showlegend=show_res_legend,\n",
    "            legendgroup='weight_ref'\n",
    "        )\n",
    "    )\n",
    "\n",
    "\n",
    "\n",
    "layout = go.Layout(\n",
    "    yaxis=dict(\n",
    "        title='Water intake (mL)',\n",
    "        range=yrange_water\n",
    "    ),\n",
    "    yaxis2=dict(\n",
    "        title='Weight (g)',\n",
    "        overlaying='y',\n",
    "        side='right',\n",
    "    ),\n",
    "    width=1000,\n",
    "    height=500,\n",
    "    title=dict(\n",
    "        text='Water intake and weight',\n",
    "        x=0.3,\n",
    "        y=0.9\n",
    "    ),\n",
    "    xaxis=dict(\n",
    "        title='Date',\n",
    "        range=[d['first_date_str'], d['last_date_str']]\n",
    "    ), \n",
    "    legend=dict(\n",
    "        x=1.1, \n",
    "        y=0.9,\n",
    "        orientation='v'),\n",
    "    barmode='stack'\n",
    ")\n",
    "fig = go.Figure(data=data, layout=layout)\n",
    "plotly.offline.iplot(fig)"
   ]
  },
  {
   "cell_type": "code",
   "execution_count": 6,
   "metadata": {},
   "outputs": [],
   "source": [
    "f = open(\"water_weight.json\",\"w\")\n",
    "s = json.dumps(fig.to_plotly_json())\n",
    "f.write(s)\n",
    "f.close()"
   ]
  }
 ],
 "metadata": {
  "kernelspec": {
   "display_name": "Python 3",
   "language": "python",
   "name": "python3"
  },
  "language_info": {
   "codemirror_mode": {
    "name": "ipython",
    "version": 3
   },
   "file_extension": ".py",
   "mimetype": "text/x-python",
   "name": "python",
   "nbconvert_exporter": "python",
   "pygments_lexer": "ipython3",
   "version": "3.6.6"
  }
 },
 "nbformat": 4,
 "nbformat_minor": 2
}
