{
 "cells": [
  {
   "cell_type": "code",
   "execution_count": 20,
   "metadata": {},
   "outputs": [
    {
     "data": {
      "text/html": [
       "        <script type=\"text/javascript\">\n",
       "        window.PlotlyConfig = {MathJaxConfig: 'local'};\n",
       "        if (window.MathJax) {MathJax.Hub.Config({SVG: {font: \"STIX-Web\"}});}\n",
       "        if (typeof require !== 'undefined') {\n",
       "        require.undef(\"plotly\");\n",
       "        requirejs.config({\n",
       "            paths: {\n",
       "                'plotly': ['https://cdn.plot.ly/plotly-latest.min']\n",
       "            }\n",
       "        });\n",
       "        require(['plotly'], function(Plotly) {\n",
       "            window._Plotly = Plotly;\n",
       "        });\n",
       "        }\n",
       "        </script>\n",
       "        "
      ]
     },
     "metadata": {},
     "output_type": "display_data"
    }
   ],
   "source": [
    "from ibl_pipeline.analyses import behavior as behavior_analyses\n",
    "from ibl_pipeline import behavior as behavior\n",
    "from ibl_pipeline import subject, acquisition\n",
    "from ibl_pipeline.utils import psychofit as psy\n",
    "from uuid import UUID\n",
    "import numpy as np\n",
    "import datetime\n",
    "import datajoint as dj\n",
    "import json\n",
    "import seaborn as sns\n",
    "import pandas as pd\n",
    "import plotly\n",
    "import plotly.graph_objs as go\n",
    "import statsmodels.stats.proportion as smp\n",
    "plotly.offline.init_notebook_mode(connected=True)"
   ]
  },
  {
   "cell_type": "code",
   "execution_count": 54,
   "metadata": {},
   "outputs": [
    {
     "data": {
      "application/vnd.plotly.v1+json": {
       "config": {
        "linkText": "Export to plot.ly",
        "plotlyServerURL": "https://plot.ly",
        "responsive": true,
        "showLink": false
       },
       "data": [
        {
         "error_y": {
          "array": [
           0.007649999999991053,
           0.005400000000001626,
           0,
           0,
           0.04829999999999757,
           0.049450000000000216,
           0.017699999999990723,
           0.0005999999999986017,
           0.00409999999999755
          ],
          "arrayminus": [
           0.01724999999998289,
           0.015299999999996317,
           0.008200000000016416,
           0.05299999999999727,
           0.08979999999999855,
           0.056100000000000705,
           0.05010000000001469,
           0.006599999999998829,
           0.015400000000003189
          ],
          "type": "data",
          "visible": true
         },
         "marker": {
          "color": "black",
          "size": 6
         },
         "mode": "markers+lines",
         "name": "p_left = 0.5",
         "type": "scatter",
         "uid": "7aad1f43-b6bc-4889-8dde-a50e7a6460de",
         "x": [
          -100,
          -25,
          -12.5,
          -6.25,
          0,
          6.25,
          12.5,
          25,
          100
         ],
         "y": [
          0.26574999999998994,
          0.29939999999999856,
          0.26660000000001105,
          0.35540000000000305,
          0.37684999999999746,
          0.3288000000000011,
          0.3030000000000115,
          0.23440000000000083,
          0.21240000000000236
         ]
        },
        {
         "error_y": {
          "array": [
           0,
           0.0027999999999792635,
           0.08000000000004093,
           0.06319999999993797,
           0.03795000000005189,
           0.008799999999780539,
           0.005199999999945248,
           0.013049999999992679,
           0.0036000000001195076
          ],
          "arrayminus": [
           0.022699999999815645,
           0.030099999999947613,
           0.042799999999942884,
           0.07060000000006994,
           0.020000000000010232,
           0.02475000000026739,
           0.010499999999979082,
           0.0027000000000327873,
           0.011999999999943611
          ],
          "type": "data",
          "visible": true
         },
         "marker": {
          "color": "cornflowerblue",
          "size": 6
         },
         "mode": "markers+lines",
         "name": "p_left = 0.8",
         "type": "scatter",
         "uid": "2691aa07-2214-4870-8558-803207dec9bb",
         "x": [
          -100,
          -25,
          -12.5,
          -6.25,
          0,
          6.25,
          12.5,
          25,
          100
         ],
         "y": [
          0.2687999999998283,
          0.28890000000001237,
          0.3614000000000033,
          0.3905000000000314,
          0.3476999999999464,
          0.31825000000026193,
          0.294399999999996,
          0.273050000000012,
          0.2647999999999229
         ]
        },
        {
         "error_y": {
          "array": [
           0.011799999999936972,
           0.01965000000012651,
           0.0050999999999703505,
           0.027599999999893043,
           0.09535000000005311,
           0.10114999999993302,
           0.008000000000038199,
           0.036599999999907595,
           0.03489999999987958
          ],
          "arrayminus": [
           0.01850000000001728,
           0.0034499999999582087,
           0.05945000000019718,
           0.0784000000001015,
           0.05495000000001937,
           0.06670000000002574,
           0.011350000000049931,
           0.07150000000012824,
           0.021200000000135333
          ],
          "type": "data",
          "visible": true
         },
         "marker": {
          "color": "orange",
          "size": 6
         },
         "mode": "markers+lines",
         "name": "p_left = 0.2",
         "type": "scatter",
         "uid": "d9dddf80-a893-4420-bf97-ee535582bccb",
         "x": [
          -100,
          -25,
          -12.5,
          -6.25,
          0,
          6.25,
          12.5,
          25,
          100
         ],
         "y": [
          0.283800000000042,
          0.28174999999993133,
          0.35610000000008313,
          0.4170000000001437,
          0.4442500000000109,
          0.5112000000000307,
          0.34225000000003547,
          0.34260000000011814,
          0.24510000000009313
         ]
        }
       ],
       "layout": {
        "height": 400,
        "title": {
         "text": "Reaction time - contrast"
        },
        "width": 630,
        "xaxis": {
         "title": {
          "text": "Contrast(%)"
         }
        },
        "yaxis": {
         "title": {
          "text": "Reaction time (s)"
         }
        }
       }
      },
      "text/html": [
       "<div>\n",
       "        \n",
       "        \n",
       "            <div id=\"faf5133b-cca3-4a33-b5bd-c9c0594759a5\" class=\"plotly-graph-div\" style=\"height:400px; width:630px;\"></div>\n",
       "            <script type=\"text/javascript\">\n",
       "                require([\"plotly\"], function(Plotly) {\n",
       "                    window.PLOTLYENV=window.PLOTLYENV || {};\n",
       "                    window.PLOTLYENV.BASE_URL='https://plot.ly';\n",
       "                    \n",
       "                if (document.getElementById(\"faf5133b-cca3-4a33-b5bd-c9c0594759a5\")) {\n",
       "                    Plotly.newPlot(\n",
       "                        'faf5133b-cca3-4a33-b5bd-c9c0594759a5',\n",
       "                        [{\"error_y\": {\"array\": [0.007649999999991053, 0.005400000000001626, 0.0, 0.0, 0.04829999999999757, 0.049450000000000216, 0.017699999999990723, 0.0005999999999986017, 0.00409999999999755], \"arrayminus\": [0.01724999999998289, 0.015299999999996317, 0.008200000000016416, 0.05299999999999727, 0.08979999999999855, 0.056100000000000705, 0.05010000000001469, 0.006599999999998829, 0.015400000000003189], \"type\": \"data\", \"visible\": true}, \"marker\": {\"color\": \"black\", \"size\": 6}, \"mode\": \"markers+lines\", \"name\": \"p_left = 0.5\", \"type\": \"scatter\", \"uid\": \"5e0fa255-cc18-4b04-9c6b-0177e71bb15f\", \"x\": [-100.0, -25.0, -12.5, -6.25, 0.0, 6.25, 12.5, 25.0, 100.0], \"y\": [0.26574999999998994, 0.29939999999999856, 0.26660000000001105, 0.35540000000000305, 0.37684999999999746, 0.3288000000000011, 0.3030000000000115, 0.23440000000000083, 0.21240000000000236]}, {\"error_y\": {\"array\": [0.0, 0.0027999999999792635, 0.08000000000004093, 0.06319999999993797, 0.03795000000005189, 0.008799999999780539, 0.005199999999945248, 0.013049999999992679, 0.0036000000001195076], \"arrayminus\": [0.022699999999815645, 0.030099999999947613, 0.042799999999942884, 0.07060000000006994, 0.020000000000010232, 0.02475000000026739, 0.010499999999979082, 0.0027000000000327873, 0.011999999999943611], \"type\": \"data\", \"visible\": true}, \"marker\": {\"color\": \"cornflowerblue\", \"size\": 6}, \"mode\": \"markers+lines\", \"name\": \"p_left = 0.8\", \"type\": \"scatter\", \"uid\": \"317431d8-183f-4c34-a85a-ffe0aa0b433b\", \"x\": [-100.0, -25.0, -12.5, -6.25, 0.0, 6.25, 12.5, 25.0, 100.0], \"y\": [0.2687999999998283, 0.28890000000001237, 0.3614000000000033, 0.3905000000000314, 0.3476999999999464, 0.31825000000026193, 0.294399999999996, 0.273050000000012, 0.2647999999999229]}, {\"error_y\": {\"array\": [0.011799999999936972, 0.01965000000012651, 0.0050999999999703505, 0.027599999999893043, 0.09535000000005311, 0.10114999999993302, 0.008000000000038199, 0.036599999999907595, 0.03489999999987958], \"arrayminus\": [0.01850000000001728, 0.0034499999999582087, 0.05945000000019718, 0.0784000000001015, 0.05495000000001937, 0.06670000000002574, 0.011350000000049931, 0.07150000000012824, 0.021200000000135333], \"type\": \"data\", \"visible\": true}, \"marker\": {\"color\": \"orange\", \"size\": 6}, \"mode\": \"markers+lines\", \"name\": \"p_left = 0.2\", \"type\": \"scatter\", \"uid\": \"9938154f-7393-42e0-afdc-2a4a9f7b0ba2\", \"x\": [-100.0, -25.0, -12.5, -6.25, 0.0, 6.25, 12.5, 25.0, 100.0], \"y\": [0.283800000000042, 0.28174999999993133, 0.35610000000008313, 0.4170000000001437, 0.4442500000000109, 0.5112000000000307, 0.34225000000003547, 0.34260000000011814, 0.24510000000009313]}],\n",
       "                        {\"height\": 400, \"title\": {\"text\": \"Reaction time - contrast\"}, \"width\": 630, \"xaxis\": {\"title\": {\"text\": \"Contrast(%)\"}}, \"yaxis\": {\"title\": {\"text\": \"Reaction time (s)\"}}},\n",
       "                        {\"showLink\": false, \"linkText\": \"Export to plot.ly\", \"plotlyServerURL\": \"https://plot.ly\", \"responsive\": true}\n",
       "                    ).then(function(){\n",
       "                            \n",
       "var gd = document.getElementById('faf5133b-cca3-4a33-b5bd-c9c0594759a5');\n",
       "var x = new MutationObserver(function (mutations, observer) {{\n",
       "        var display = window.getComputedStyle(gd).display;\n",
       "        if (!display || display === 'none') {{\n",
       "            console.log([gd, 'removed!']);\n",
       "            Plotly.purge(gd);\n",
       "            observer.disconnect();\n",
       "        }}\n",
       "}});\n",
       "\n",
       "// Listen for the removal of the full notebook cells\n",
       "var notebookContainer = gd.closest('#notebook-container');\n",
       "if (notebookContainer) {{\n",
       "    x.observe(notebookContainer, {childList: true});\n",
       "}}\n",
       "\n",
       "// Listen for the clearing of the current output cell\n",
       "var outputEl = gd.closest('.output');\n",
       "if (outputEl) {{\n",
       "    x.observe(outputEl, {childList: true});\n",
       "}}\n",
       "\n",
       "                        })\n",
       "                };\n",
       "                });\n",
       "            </script>\n",
       "        </div>"
      ]
     },
     "metadata": {},
     "output_type": "display_data"
    }
   ],
   "source": [
    "subj_uuid = (subject.Subject & 'subject_nickname=\"IBL_13\"').fetch1('subject_uuid')\n",
    "key = {'subject_uuid': subj_uuid,\n",
    "   'session_date': datetime.date(2019, 3, 29)}\n",
    "sessions = behavior_analyses.BehavioralSummaryByDate.PsychResults * \\\n",
    "    behavior_analyses.BehavioralSummaryByDate.ReactionTimeContrast & key\n",
    "\n",
    "data = []\n",
    "\n",
    "for session in sessions.fetch('KEY'):\n",
    "    contrasts, prob_left, reaction_time, ci_low, ci_high = \\\n",
    "        (sessions & session).fetch1(\n",
    "            'signed_contrasts', 'prob_left', 'reaction_time_contrast', \n",
    "            'reaction_time_ci_low', 'reaction_time_ci_high')\n",
    "    error_low = reaction_time - ci_low\n",
    "    error_high = ci_high - reaction_time\n",
    "    \n",
    "    contrasts = contrasts * 100\n",
    "    \n",
    "    if prob_left == 0.2:\n",
    "        curve_color = 'orange'\n",
    "    elif prob_left == 0.5:\n",
    "        curve_color = 'black'\n",
    "    elif prob_left == 0.8:\n",
    "        curve_color = 'cornflowerblue'\n",
    "    else:\n",
    "        continue\n",
    "\n",
    "    rt_data = go.Scatter(\n",
    "        x = contrasts.tolist(),\n",
    "        y = reaction_time.tolist(),\n",
    "        error_y = dict(\n",
    "                    type='data',\n",
    "                    array=error_high.tolist(),\n",
    "                    arrayminus=error_low.tolist(),\n",
    "                    visible=True\n",
    "            ),\n",
    "        marker = dict(\n",
    "                size = 6,\n",
    "                color = curve_color),\n",
    "        mode = 'markers+lines',\n",
    "        name = f'p_left = {prob_left}'\n",
    "    )\n",
    "\n",
    "    data.append(rt_data)\n",
    "\n",
    "layout = go.Layout(\n",
    "    width=630,\n",
    "    height=400,\n",
    "    title='Reaction time - contrast', \n",
    "    xaxis={'title':'Contrast(%)'}, \n",
    "    yaxis={'title':'Reaction time (s)'},\n",
    ")\n",
    "\n",
    "fig = go.Figure(data=data, layout=layout)\n",
    "plotly.offline.iplot(fig)"
   ]
  },
  {
   "cell_type": "code",
   "execution_count": 55,
   "metadata": {},
   "outputs": [],
   "source": [
    "f = open(\"reaction_time_date.json\",\"w\")\n",
    "s = json.dumps(fig.to_plotly_json())\n",
    "f.write(s)\n",
    "f.close()"
   ]
  }
 ],
 "metadata": {
  "kernelspec": {
   "display_name": "Python 3",
   "language": "python",
   "name": "python3"
  },
  "language_info": {
   "codemirror_mode": {
    "name": "ipython",
    "version": 3
   },
   "file_extension": ".py",
   "mimetype": "text/x-python",
   "name": "python",
   "nbconvert_exporter": "python",
   "pygments_lexer": "ipython3",
   "version": "3.6.6"
  }
 },
 "nbformat": 4,
 "nbformat_minor": 2
}
