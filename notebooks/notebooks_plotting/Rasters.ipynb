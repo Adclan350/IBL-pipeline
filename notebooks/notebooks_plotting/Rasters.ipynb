{
 "cells": [
  {
   "cell_type": "code",
   "execution_count": null,
   "metadata": {},
   "outputs": [
    {
     "name": "stdout",
     "output_type": "stream",
     "text": [
      "Connecting shan@datajoint.internationalbrainlab.org:3306\n"
     ]
    }
   ],
   "source": [
    "import datajoint as dj\n",
    "from ibl_pipeline import behavior, ephys\n",
    "import numpy as np\n",
    "import matplotlib.pyplot as plt\n",
    "import plotly\n",
    "import plotly.graph_objs as go\n",
    "from ibl_pipeline.plotting import plotting_utils as putils"
   ]
  },
  {
   "cell_type": "code",
   "execution_count": null,
   "metadata": {},
   "outputs": [],
   "source": [
    "# Rasters aligned\n",
    "cluster = ephys.Cluster & 'cluster_id=248'\n",
    "trials_all = (behavior.TrialSet.Trial * ephys.TrialSpikes & cluster).proj(\n",
    "    'trial_start_time', 'trial_stim_on_time', 'trial_response_time', 'trial_feedback_time',\n",
    "    'trial_response_choice', 'trial_spike_times',\n",
    "    trial_duration='trial_end_time-trial_start_time',\n",
    "    trial_signed_contrast='trial_stim_contrast_right - trial_stim_contrast_left'\n",
    ") & 'trial_duration < 5' & 'trial_response_choice!=\"No Go\"'\n",
    "\n",
    "trials_left = trials_all & 'trial_response_choice=\"CW\"' & 'trial_signed_contrast < 0'\n",
    "trials_right = trials_all & 'trial_response_choice=\"CCW\"' & 'trial_signed_contrast > 0'\n",
    "trials = trials_all & [trials_right.proj(), trials_left.proj()]\n",
    "align_event = 'feedback'\n",
    "x_lim = [-1, 1]\n",
    "encoded_string, y_lim = putils.create_raster_plot(trials, align_event, 'feedback - response', show_plot=True)"
   ]
  },
  {
   "cell_type": "code",
   "execution_count": null,
   "metadata": {},
   "outputs": [],
   "source": [
    "data = go.Scatter(\n",
    "    x=x_lim,\n",
    "    y=y_lim,\n",
    "    mode='markers',\n",
    "    marker=dict(opacity=0)\n",
    ")\n",
    "\n",
    "layout = go.Layout(\n",
    "    images=[dict(\n",
    "      source='data:image/png;base64, ' + encoded_string.decode(),\n",
    "      sizex=x_lim[1] - x_lim[0],\n",
    "      sizey=y_lim[1] - y_lim[0],\n",
    "      x=x_lim[0],\n",
    "      y=y_lim[1],\n",
    "      xref='x',\n",
    "      yref='y',\n",
    "      sizing='stretch',\n",
    "      layer='below'\n",
    "    )],\n",
    "    width=580,\n",
    "    height=370,\n",
    "    margin=go.layout.Margin(\n",
    "        l=50,\n",
    "        r=30,\n",
    "        b=40,\n",
    "        t=80,\n",
    "        pad=0\n",
    "    ),\n",
    "    title=dict(\n",
    "        text='Raster, aligned to {}'.format(align_event),\n",
    "        y=0.87\n",
    "    ),\n",
    "    xaxis=dict(\n",
    "        title='Time/sec',\n",
    "        range=x_lim,\n",
    "        showgrid=False\n",
    "    ), \n",
    "    yaxis=dict(\n",
    "        title='Trial idx',\n",
    "        range=y_lim,\n",
    "        showgrid=False\n",
    "    ),\n",
    ")\n",
    "\n",
    "fig = go.Figure(data=[data], layout=layout)\n",
    "plotly.offline.iplot(fig)"
   ]
  },
  {
   "cell_type": "code",
   "execution_count": null,
   "metadata": {},
   "outputs": [],
   "source": [
    "import json\n",
    "f = open(\"rasters.json\",\"w\")\n",
    "s = json.dumps(fig.to_plotly_json())\n",
    "f.write(s)\n",
    "f.close()"
   ]
  },
  {
   "cell_type": "code",
   "execution_count": null,
   "metadata": {},
   "outputs": [],
   "source": []
  }
 ],
 "metadata": {
  "kernelspec": {
   "display_name": "Python 3",
   "language": "python",
   "name": "python3"
  },
  "language_info": {
   "codemirror_mode": {
    "name": "ipython",
    "version": 3
   },
   "file_extension": ".py",
   "mimetype": "text/x-python",
   "name": "python",
   "nbconvert_exporter": "python",
   "pygments_lexer": "ipython3",
   "version": "3.6.6"
  }
 },
 "nbformat": 4,
 "nbformat_minor": 2
}
