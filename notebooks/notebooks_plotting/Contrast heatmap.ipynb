{
 "cells": [
  {
   "cell_type": "code",
   "execution_count": 1,
   "metadata": {},
   "outputs": [
    {
     "name": "stdout",
     "output_type": "stream",
     "text": [
      "Connecting shan@datajoint.internationalbrainlab.org:3306\n"
     ]
    },
    {
     "data": {
      "text/html": [
       "        <script type=\"text/javascript\">\n",
       "        window.PlotlyConfig = {MathJaxConfig: 'local'};\n",
       "        if (window.MathJax) {MathJax.Hub.Config({SVG: {font: \"STIX-Web\"}});}\n",
       "        if (typeof require !== 'undefined') {\n",
       "        require.undef(\"plotly\");\n",
       "        requirejs.config({\n",
       "            paths: {\n",
       "                'plotly': ['https://cdn.plot.ly/plotly-latest.min']\n",
       "            }\n",
       "        });\n",
       "        require(['plotly'], function(Plotly) {\n",
       "            window._Plotly = Plotly;\n",
       "        });\n",
       "        }\n",
       "        </script>\n",
       "        "
      ]
     },
     "metadata": {},
     "output_type": "display_data"
    }
   ],
   "source": [
    "from ibl_pipeline.analyses import behavior\n",
    "from ibl_pipeline import behavior as behavior_ingest\n",
    "from ibl_pipeline import subject, acquisition\n",
    "from ibl_pipeline.utils import psychofit as psy\n",
    "from uuid import UUID\n",
    "import matplotlib.pyplot as plt\n",
    "import numpy as np\n",
    "import datetime\n",
    "import datajoint as dj\n",
    "import json\n",
    "import seaborn as sns\n",
    "import pandas as pd\n",
    "import plotly\n",
    "import plotly.graph_objs as go\n",
    "import statsmodels.stats.proportion as smp\n",
    "plotly.offline.init_notebook_mode(connected=True)"
   ]
  },
  {
   "cell_type": "code",
   "execution_count": 3,
   "metadata": {},
   "outputs": [],
   "source": [
    "key = {'subject_uuid': UUID('034fd43f-ee35-450b-99ef-25475ce25fdc'), 'last_session_date': datetime.date(2019, 2, 25)}\n",
    "# get trial counts and session length to date\n",
    "sessions = (behavior.BehavioralSummaryByDate.PsychResults & 'prob_left=0.5' &\n",
    "            key).proj('session_date', 'signed_contrasts', 'prob_choose_right').fetch(as_dict=True)\n",
    "# reshape to a heatmap format\n",
    "contrast_list = []\n",
    "for session in sessions:\n",
    "    for icontrast, contrast in enumerate(session['signed_contrasts']):\n",
    "        contrast_list.append({'session_date': session['session_date'], \n",
    "                             'signed_contrast': round(contrast, 2)*100, \n",
    "                             'prob_choose_right': session['prob_choose_right'][icontrast]})\n",
    "contrast_df = pd.DataFrame(contrast_list)\n",
    "contrast_map = contrast_df.pivot(\n",
    "    'signed_contrast', 'session_date', 'prob_choose_right').sort_values(\n",
    "        by='signed_contrast', ascending=False)\n",
    "\n",
    "contrast_map = contrast_map.where((pd.notnull(contrast_map)), None)"
   ]
  },
  {
   "cell_type": "code",
   "execution_count": 4,
   "metadata": {},
   "outputs": [
    {
     "data": {
      "application/vnd.plotly.v1+json": {
       "config": {
        "linkText": "Export to plot.ly",
        "plotlyServerURL": "https://plot.ly",
        "responsive": true,
        "showLink": false
       },
       "data": [
        {
         "colorbar": {
          "thickness": 10,
          "title": {
           "side": "right",
           "text": "prob choosing left"
          }
         },
         "type": "heatmap",
         "uid": "7ca1734f-08cc-4c45-98fb-7721b6eeb253",
         "x": [
          "2019-01-23",
          "2019-01-24",
          "2019-01-25",
          "2019-01-28",
          "2019-01-29",
          "2019-01-30",
          "2019-01-31",
          "2019-02-01",
          "2019-02-04",
          "2019-02-05",
          "2019-02-06",
          "2019-02-07",
          "2019-02-08",
          "2019-02-11",
          "2019-02-21",
          "2019-02-22",
          "2019-02-25"
         ],
         "y": [
          100,
          50,
          25,
          12,
          6,
          0,
          -6,
          -12,
          -25,
          -50,
          -100
         ],
         "z": [
          [
           0.23636363636363636,
           0.1111111111111111,
           0.15789473684210525,
           0.1297709923664122,
           0.4768211920529801,
           0.8297872340425532,
           0.7591240875912408,
           0.8666666666666667,
           0.9622641509433962,
           0.9512195121951219,
           0.927536231884058,
           0.9620253164556962,
           0.9230769230769231,
           0.9897959183673469,
           1,
           1,
           1
          ],
          [
           0.4772727272727273,
           0.14035087719298245,
           0.23076923076923078,
           0.1836734693877551,
           0.6044776119402985,
           0.6641221374045801,
           0.712,
           0.9428571428571428,
           null,
           null,
           null,
           null,
           null,
           null,
           null,
           null,
           null
          ],
          [
           null,
           null,
           null,
           null,
           null,
           0.5555555555555556,
           0.6802721088435374,
           0.8611111111111112,
           0.9609375,
           0.7761194029850746,
           0.984375,
           0.9764705882352941,
           0.8596491228070176,
           0.9512195121951219,
           0.7777777777777778,
           1,
           1
          ],
          [
           null,
           null,
           null,
           null,
           null,
           null,
           null,
           0.8658536585365854,
           0.9134615384615384,
           0.6575342465753424,
           0.8904109589041096,
           0.9538461538461539,
           0.8,
           0.9243697478991597,
           0.9285714285714286,
           0.9,
           0.75
          ],
          [
           null,
           null,
           null,
           null,
           null,
           null,
           null,
           0.6585365853658537,
           0.7850467289719626,
           0.5454545454545454,
           0.835820895522388,
           0.8536585365853658,
           0.765625,
           0.8596491228070176,
           0.8333333333333334,
           0.75,
           0.6666666666666666
          ],
          [
           null,
           null,
           null,
           null,
           null,
           null,
           null,
           0.84,
           0.58,
           0.25806451612903225,
           0.6075949367088608,
           0.6842105263157895,
           0.546875,
           0.5948275862068966,
           0.42857142857142855,
           0.3333333333333333,
           0.4166666666666667
          ],
          [
           null,
           null,
           null,
           null,
           null,
           null,
           null,
           0.4358974358974359,
           0.38345864661654133,
           0.10344827586206896,
           0.2571428571428571,
           0.3384615384615385,
           0.2753623188405797,
           0.46464646464646464,
           0.3333333333333333,
           0.3333333333333333,
           0.25
          ],
          [
           null,
           null,
           null,
           null,
           null,
           null,
           null,
           0.24324324324324326,
           0.17857142857142858,
           0.045454545454545456,
           0.0975609756097561,
           0.2376237623762376,
           0.11428571428571428,
           0.22580645161290322,
           0.42857142857142855,
           0.25,
           0.3333333333333333
          ],
          [
           null,
           null,
           null,
           null,
           null,
           0.12,
           0.1111111111111111,
           0.15217391304347827,
           0.12380952380952381,
           0.028985507246376812,
           0.1044776119402985,
           0.10975609756097561,
           0.02666666666666667,
           0.23255813953488372,
           0.2,
           0,
           0.1111111111111111
          ],
          [
           0.2857142857142857,
           0.1590909090909091,
           0.2857142857142857,
           0.20408163265306123,
           0.3983739837398374,
           0.12605042016806722,
           0.09868421052631579,
           0.08571428571428572,
           null,
           null,
           null,
           null,
           null,
           null,
           null,
           null,
           null
          ],
          [
           0.3333333333333333,
           0.12903225806451613,
           0.21621621621621623,
           0.20930232558139536,
           0.32673267326732675,
           0.14545454545454545,
           0.09243697478991597,
           0.07865168539325842,
           0.046296296296296294,
           0,
           0.016129032258064516,
           0.023529411764705882,
           0,
           0.046875,
           0,
           0.1111111111111111,
           0
          ]
         ],
         "zmax": 1,
         "zmin": 0
        }
       ],
       "layout": {
        "height": 400,
        "showlegend": false,
        "title": {
         "text": "Contrast heatmap"
        },
        "width": 500,
        "xaxis": {
         "title": {
          "text": "Date"
         }
        },
        "yaxis": {
         "range": [
          -100,
          100
         ],
         "title": {
          "text": "Contrast (%)"
         }
        }
       }
      },
      "text/html": [
       "<div>\n",
       "        \n",
       "        \n",
       "            <div id=\"0e7d8671-c55c-493d-8241-588392a58fc1\" class=\"plotly-graph-div\" style=\"height:400px; width:500px;\"></div>\n",
       "            <script type=\"text/javascript\">\n",
       "                require([\"plotly\"], function(Plotly) {\n",
       "                    window.PLOTLYENV=window.PLOTLYENV || {};\n",
       "                    window.PLOTLYENV.BASE_URL='https://plot.ly';\n",
       "                    \n",
       "                if (document.getElementById(\"0e7d8671-c55c-493d-8241-588392a58fc1\")) {\n",
       "                    Plotly.newPlot(\n",
       "                        '0e7d8671-c55c-493d-8241-588392a58fc1',\n",
       "                        [{\"colorbar\": {\"thickness\": 10, \"title\": {\"side\": \"right\", \"text\": \"prob choosing left\"}}, \"type\": \"heatmap\", \"uid\": \"3ce584a7-e8e4-49fb-be7e-8eb7720c9c23\", \"x\": [\"2019-01-23\", \"2019-01-24\", \"2019-01-25\", \"2019-01-28\", \"2019-01-29\", \"2019-01-30\", \"2019-01-31\", \"2019-02-01\", \"2019-02-04\", \"2019-02-05\", \"2019-02-06\", \"2019-02-07\", \"2019-02-08\", \"2019-02-11\", \"2019-02-21\", \"2019-02-22\", \"2019-02-25\"], \"y\": [100.0, 50.0, 25.0, 12.0, 6.0, 0.0, -6.0, -12.0, -25.0, -50.0, -100.0], \"z\": [[0.23636363636363636, 0.1111111111111111, 0.15789473684210525, 0.1297709923664122, 0.4768211920529801, 0.8297872340425532, 0.7591240875912408, 0.8666666666666667, 0.9622641509433962, 0.9512195121951219, 0.927536231884058, 0.9620253164556962, 0.9230769230769231, 0.9897959183673469, 1.0, 1.0, 1.0], [0.4772727272727273, 0.14035087719298245, 0.23076923076923078, 0.1836734693877551, 0.6044776119402985, 0.6641221374045801, 0.712, 0.9428571428571428, null, null, null, null, null, null, null, null, null], [null, null, null, null, null, 0.5555555555555556, 0.6802721088435374, 0.8611111111111112, 0.9609375, 0.7761194029850746, 0.984375, 0.9764705882352941, 0.8596491228070176, 0.9512195121951219, 0.7777777777777778, 1.0, 1.0], [null, null, null, null, null, null, null, 0.8658536585365854, 0.9134615384615384, 0.6575342465753424, 0.8904109589041096, 0.9538461538461539, 0.8, 0.9243697478991597, 0.9285714285714286, 0.9, 0.75], [null, null, null, null, null, null, null, 0.6585365853658537, 0.7850467289719626, 0.5454545454545454, 0.835820895522388, 0.8536585365853658, 0.765625, 0.8596491228070176, 0.8333333333333334, 0.75, 0.6666666666666666], [null, null, null, null, null, null, null, 0.84, 0.58, 0.25806451612903225, 0.6075949367088608, 0.6842105263157895, 0.546875, 0.5948275862068966, 0.42857142857142855, 0.3333333333333333, 0.4166666666666667], [null, null, null, null, null, null, null, 0.4358974358974359, 0.38345864661654133, 0.10344827586206896, 0.2571428571428571, 0.3384615384615385, 0.2753623188405797, 0.46464646464646464, 0.3333333333333333, 0.3333333333333333, 0.25], [null, null, null, null, null, null, null, 0.24324324324324326, 0.17857142857142858, 0.045454545454545456, 0.0975609756097561, 0.2376237623762376, 0.11428571428571428, 0.22580645161290322, 0.42857142857142855, 0.25, 0.3333333333333333], [null, null, null, null, null, 0.12, 0.1111111111111111, 0.15217391304347827, 0.12380952380952381, 0.028985507246376812, 0.1044776119402985, 0.10975609756097561, 0.02666666666666667, 0.23255813953488372, 0.2, 0.0, 0.1111111111111111], [0.2857142857142857, 0.1590909090909091, 0.2857142857142857, 0.20408163265306123, 0.3983739837398374, 0.12605042016806722, 0.09868421052631579, 0.08571428571428572, null, null, null, null, null, null, null, null, null], [0.3333333333333333, 0.12903225806451613, 0.21621621621621623, 0.20930232558139536, 0.32673267326732675, 0.14545454545454545, 0.09243697478991597, 0.07865168539325842, 0.046296296296296294, 0.0, 0.016129032258064516, 0.023529411764705882, 0.0, 0.046875, 0.0, 0.1111111111111111, 0.0]], \"zmax\": 1, \"zmin\": 0}],\n",
       "                        {\"height\": 400, \"showlegend\": false, \"title\": {\"text\": \"Contrast heatmap\"}, \"width\": 500, \"xaxis\": {\"title\": {\"text\": \"Date\"}}, \"yaxis\": {\"range\": [-100, 100], \"title\": {\"text\": \"Contrast (%)\"}}},\n",
       "                        {\"showLink\": false, \"linkText\": \"Export to plot.ly\", \"plotlyServerURL\": \"https://plot.ly\", \"responsive\": true}\n",
       "                    ).then(function(){\n",
       "                            \n",
       "var gd = document.getElementById('0e7d8671-c55c-493d-8241-588392a58fc1');\n",
       "var x = new MutationObserver(function (mutations, observer) {{\n",
       "        var display = window.getComputedStyle(gd).display;\n",
       "        if (!display || display === 'none') {{\n",
       "            console.log([gd, 'removed!']);\n",
       "            Plotly.purge(gd);\n",
       "            observer.disconnect();\n",
       "        }}\n",
       "}});\n",
       "\n",
       "// Listen for the removal of the full notebook cells\n",
       "var notebookContainer = gd.closest('#notebook-container');\n",
       "if (notebookContainer) {{\n",
       "    x.observe(notebookContainer, {childList: true});\n",
       "}}\n",
       "\n",
       "// Listen for the clearing of the current output cell\n",
       "var outputEl = gd.closest('.output');\n",
       "if (outputEl) {{\n",
       "    x.observe(outputEl, {childList: true});\n",
       "}}\n",
       "\n",
       "                        })\n",
       "                };\n",
       "                });\n",
       "            </script>\n",
       "        </div>"
      ]
     },
     "metadata": {},
     "output_type": "display_data"
    }
   ],
   "source": [
    "data = dict(\n",
    "    x=[t.strftime('%Y-%m-%d') \n",
    "       for t in contrast_map.columns.tolist()],\n",
    "    y=contrast_map.index.tolist(),\n",
    "    z=contrast_map.values.tolist(),\n",
    "    zmax=1,\n",
    "    zmin=0,\n",
    "    type='heatmap',\n",
    "    colorbar=dict(\n",
    "        thickness=10,\n",
    "        title='prob choosing left',\n",
    "        titleside = 'right',\n",
    "    )\n",
    "    \n",
    ")\n",
    "\n",
    "layout = go.Layout(\n",
    "    xaxis=dict(title='Date'),\n",
    "    yaxis=dict(\n",
    "        title='Contrast (%)',\n",
    "        range=[-100, 100]\n",
    "    ),\n",
    "    width=500,\n",
    "    height=400,\n",
    "    title='Contrast heatmap',\n",
    "    showlegend=False\n",
    ")\n",
    "\n",
    "fig = go.Figure(data=[data], layout=layout)\n",
    "plotly.offline.iplot(fig)"
   ]
  },
  {
   "cell_type": "code",
   "execution_count": 150,
   "metadata": {},
   "outputs": [],
   "source": [
    "f = open(\"contrast_heatmap.json\",\"w\")\n",
    "s = json.dumps(fig.to_plotly_json())\n",
    "f.write(s)\n",
    "f.close()"
   ]
  },
  {
   "cell_type": "code",
   "execution_count": null,
   "metadata": {},
   "outputs": [],
   "source": []
  }
 ],
 "metadata": {
  "kernelspec": {
   "display_name": "Python 3",
   "language": "python",
   "name": "python3"
  },
  "language_info": {
   "codemirror_mode": {
    "name": "ipython",
    "version": 3
   },
   "file_extension": ".py",
   "mimetype": "text/x-python",
   "name": "python",
   "nbconvert_exporter": "python",
   "pygments_lexer": "ipython3",
   "version": "3.6.6"
  }
 },
 "nbformat": 4,
 "nbformat_minor": 2
}
