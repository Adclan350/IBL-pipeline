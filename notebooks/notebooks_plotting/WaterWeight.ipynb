{
 "cells": [
  {
   "cell_type": "code",
   "execution_count": 1,
   "metadata": {},
   "outputs": [
    {
     "name": "stdout",
     "output_type": "stream",
     "text": [
      "Connecting shan@datajoint.internationalbrainlab.org:3306\n"
     ]
    }
   ],
   "source": [
    "from ibl_pipeline import behavior as behavior_analyses\n",
    "from ibl_pipeline import behavior as behavior\n",
    "from ibl_pipeline import subject, acquisition, action\n",
    "from ibl_pipeline.utils import psychofit as psy\n",
    "import plotting_utils as putils\n",
    "import numpy as np\n",
    "import datetime\n",
    "import datajoint as dj\n",
    "import json\n",
    "import pandas as pd\n",
    "from uuid import UUID"
   ]
  },
  {
   "cell_type": "code",
   "execution_count": 2,
   "metadata": {},
   "outputs": [
    {
     "data": {
      "text/html": [
       "        <script type=\"text/javascript\">\n",
       "        window.PlotlyConfig = {MathJaxConfig: 'local'};\n",
       "        if (window.MathJax) {MathJax.Hub.Config({SVG: {font: \"STIX-Web\"}});}\n",
       "        if (typeof require !== 'undefined') {\n",
       "        require.undef(\"plotly\");\n",
       "        requirejs.config({\n",
       "            paths: {\n",
       "                'plotly': ['https://cdn.plot.ly/plotly-latest.min']\n",
       "            }\n",
       "        });\n",
       "        require(['plotly'], function(Plotly) {\n",
       "            window._Plotly = Plotly;\n",
       "        });\n",
       "        }\n",
       "        </script>\n",
       "        "
      ]
     },
     "metadata": {},
     "output_type": "display_data"
    }
   ],
   "source": [
    "import plotly\n",
    "import plotly.graph_objs as go\n",
    "import statsmodels.stats.proportion as smp\n",
    "plotly.offline.init_notebook_mode(connected=True)"
   ]
  },
  {
   "cell_type": "code",
   "execution_count": 3,
   "metadata": {},
   "outputs": [],
   "source": [
    "water_type_names = action.WaterType.fetch('watertype_name')\n",
    "water_type_colors = ['red', 'orange', 'blue', 'rgba(55, 128, 191, 0.7)', 'purple', 'rgba(50, 171, 96, 0.9)'] \n",
    "water_type_map = dict()\n",
    "# get date range\n",
    "d = putils.get_date_range(subj)\n",
    "\n",
    "for watertype, color in zip(water_type_names, water_type_colors):\n",
    "    water_type_map.update({watertype: color})"
   ]
  },
  {
   "cell_type": "code",
   "execution_count": 5,
   "metadata": {},
   "outputs": [
    {
     "name": "stderr",
     "output_type": "stream",
     "text": [
      "/usr/local/lib/python3.6/dist-packages/datajoint/connection.py:151: UserWarning:\n",
      "\n",
      "Mysql server has gone away. Reconnecting to the server.\n",
      "\n"
     ]
    },
    {
     "data": {
      "application/vnd.plotly.v1+json": {
       "config": {
        "linkText": "Export to plot.ly",
        "plotlyServerURL": "https://plot.ly",
        "responsive": true,
        "showLink": false
       },
       "data": [
        {
         "marker": {
          "color": "rgba(55, 128, 191, 0.7)"
         },
         "name": "Water 10% Sucrose",
         "type": "bar",
         "uid": "1ef7ae5a-40ac-49cc-aa75-1661b4e15582",
         "x": [
          "2019-02-19",
          "2019-02-21",
          "2019-02-22",
          "2019-02-23",
          "2019-02-24",
          "2019-02-25",
          "2019-02-26",
          "2019-02-27",
          "2019-02-28",
          "2019-03-01",
          "2019-03-02",
          "2019-03-03",
          "2019-03-04",
          "2019-03-06",
          "2019-03-07",
          "2019-03-08",
          "2019-03-09",
          "2019-03-10",
          "2019-03-11",
          "2019-03-12",
          "2019-03-13",
          "2019-03-14",
          "2019-03-15",
          "2019-03-16",
          "2019-03-17",
          "2019-03-18",
          "2019-03-19",
          "2019-03-20",
          "2019-03-21",
          "2019-03-22",
          "2019-03-23",
          "2019-03-24",
          "2019-03-25",
          "2019-03-26",
          "2019-03-27",
          "2019-03-28",
          "2019-03-29",
          "2019-03-30",
          "2019-03-31",
          "2019-04-01",
          "2019-04-02",
          "2019-04-03",
          "2019-04-04",
          "2019-04-05",
          "2019-04-06",
          "2019-04-07",
          "2019-04-09",
          "2019-04-10",
          "2019-04-11",
          "2019-04-12",
          "2019-04-13",
          "2019-04-14",
          "2019-04-15",
          "2019-04-16",
          "2019-04-17",
          "2019-04-18",
          "2019-04-19",
          "2019-04-20",
          "2019-04-21",
          "2019-04-22",
          "2019-04-23",
          "2019-04-24",
          "2019-04-25",
          "2019-04-26",
          "2019-04-29",
          "2019-04-30",
          "2019-05-01",
          "2019-05-03",
          "2019-05-06",
          "2019-05-07",
          "2019-05-08",
          "2019-05-09",
          "2019-05-22",
          "2019-05-23"
         ],
         "y": [
          1.278,
          0.7231000000000001,
          null,
          null,
          null,
          null,
          null,
          null,
          null,
          null,
          null,
          null,
          null,
          null,
          null,
          0.5536,
          0.1683,
          null,
          0.5508,
          0.567,
          1.6173,
          0.36,
          1.9388,
          null,
          null,
          1.548,
          0.812,
          0.6698,
          2.0265,
          0.4284,
          null,
          null,
          0.511,
          0.9828,
          2.61,
          2.1035,
          1.5368,
          null,
          null,
          1.5774,
          1.1392,
          2.1328,
          1.5704,
          1.782,
          null,
          null,
          4.091,
          2.1644,
          2.3408,
          1.9737,
          null,
          null,
          2.6865,
          2.5636,
          2.2775,
          1.692,
          1.5203,
          null,
          null,
          1.2236,
          0.5874,
          1.0131,
          2.2034,
          1.0098,
          1.7367,
          1.338,
          1.8905,
          0.225,
          1.7595,
          0.5616,
          1.6031,
          1.224,
          0.6704,
          0.8075
         ],
         "yaxis": "y"
        },
        {
         "marker": {
          "color": "blue"
         },
         "name": "Water",
         "type": "bar",
         "uid": "74bcc3f7-079a-465f-b110-f1d8cc2931d3",
         "x": [
          "2019-02-19",
          "2019-02-21",
          "2019-02-22",
          "2019-02-23",
          "2019-02-24",
          "2019-02-25",
          "2019-02-26",
          "2019-02-27",
          "2019-02-28",
          "2019-03-01",
          "2019-03-02",
          "2019-03-03",
          "2019-03-04",
          "2019-03-06",
          "2019-03-07",
          "2019-03-08",
          "2019-03-09",
          "2019-03-10",
          "2019-03-11",
          "2019-03-12",
          "2019-03-13",
          "2019-03-14",
          "2019-03-15",
          "2019-03-16",
          "2019-03-17",
          "2019-03-18",
          "2019-03-19",
          "2019-03-20",
          "2019-03-21",
          "2019-03-22",
          "2019-03-23",
          "2019-03-24",
          "2019-03-25",
          "2019-03-26",
          "2019-03-27",
          "2019-03-28",
          "2019-03-29",
          "2019-03-30",
          "2019-03-31",
          "2019-04-01",
          "2019-04-02",
          "2019-04-03",
          "2019-04-04",
          "2019-04-05",
          "2019-04-06",
          "2019-04-07",
          "2019-04-09",
          "2019-04-10",
          "2019-04-11",
          "2019-04-12",
          "2019-04-13",
          "2019-04-14",
          "2019-04-15",
          "2019-04-16",
          "2019-04-17",
          "2019-04-18",
          "2019-04-19",
          "2019-04-20",
          "2019-04-21",
          "2019-04-22",
          "2019-04-23",
          "2019-04-24",
          "2019-04-25",
          "2019-04-26",
          "2019-04-29",
          "2019-04-30",
          "2019-05-01",
          "2019-05-03",
          "2019-05-06",
          "2019-05-07",
          "2019-05-08",
          "2019-05-09",
          "2019-05-22",
          "2019-05-23"
         ],
         "y": [
          null,
          null,
          0,
          0,
          0,
          0,
          0,
          0,
          0,
          0,
          0,
          0,
          0,
          1,
          1,
          null,
          1,
          1,
          null,
          null,
          null,
          null,
          null,
          1,
          1,
          null,
          null,
          null,
          null,
          null,
          1,
          1,
          null,
          null,
          null,
          null,
          null,
          1,
          1,
          null,
          null,
          null,
          null,
          null,
          1,
          1,
          null,
          null,
          null,
          null,
          1,
          1,
          null,
          null,
          null,
          null,
          null,
          1,
          1,
          null,
          null,
          null,
          null,
          null,
          null,
          null,
          null,
          null,
          null,
          null,
          null,
          null,
          null,
          null
         ],
         "yaxis": "y"
        },
        {
         "legendgroup": "weight",
         "marker": {
          "color": "black",
          "line": {
           "color": "white",
           "width": 1
          },
          "size": 6
         },
         "mode": "lines+markers",
         "name": "Weight",
         "type": "scatter",
         "uid": "2abb0e3c-ae86-47c6-8849-8acae6d2364a",
         "x": [
          "2019-02-19",
          "2019-02-19",
          "2019-02-21",
          "2019-02-21",
          "2019-03-05",
          "2019-03-06",
          "2019-03-07",
          "2019-03-08",
          "2019-03-09",
          "2019-03-11",
          "2019-03-12",
          "2019-03-13",
          "2019-03-13",
          "2019-03-14",
          "2019-03-15",
          "2019-03-18",
          "2019-03-19",
          "2019-03-20",
          "2019-03-21",
          "2019-03-22",
          "2019-03-25",
          "2019-03-26",
          "2019-03-27",
          "2019-03-28",
          "2019-03-29",
          "2019-04-01",
          "2019-04-02",
          "2019-04-03",
          "2019-04-04",
          "2019-04-04",
          "2019-04-05",
          "2019-04-08",
          "2019-04-09",
          "2019-04-09",
          "2019-04-10",
          "2019-04-11",
          "2019-04-12",
          "2019-04-15",
          "2019-04-16",
          "2019-04-17",
          "2019-04-18",
          "2019-04-19",
          "2019-04-22",
          "2019-04-23",
          "2019-04-24",
          "2019-04-24",
          "2019-04-25",
          "2019-04-26",
          "2019-04-29",
          "2019-04-30",
          "2019-05-01",
          "2019-05-03",
          "2019-05-06",
          "2019-05-07",
          "2019-05-08",
          "2019-05-09",
          "2019-05-22",
          "2019-05-23"
         ],
         "y": [
          17.45,
          18,
          17.6,
          17.3,
          22.9,
          21.6,
          20.5,
          20,
          19,
          19.5,
          19.8,
          19.5,
          19.5,
          20.5,
          19.5,
          20.33,
          20.1,
          19.01,
          19.5,
          19.5,
          18.07,
          19.7,
          19,
          20,
          19.5,
          19.33,
          18.9,
          18.6,
          18,
          18,
          18,
          18.9,
          18.9,
          18.9,
          19.1,
          19.3,
          20.7,
          18.9,
          18.9,
          20.7,
          19.3,
          18.78,
          18.5,
          18,
          19.5,
          19.5,
          21,
          19.5,
          19.5,
          20,
          20,
          21.09,
          20,
          19.5,
          19.2,
          19.25,
          20.8,
          20.7
         ],
         "yaxis": "y2"
        },
        {
         "legendgroup": "monday",
         "line": {
          "color": "gray",
          "dash": "dot",
          "width": 0.5
         },
         "mode": "lines",
         "name": "Mondays",
         "showlegend": true,
         "type": "scatter",
         "uid": "81268e56-e554-461d-ae53-77153be9cfd3",
         "x": [
          "2019-02-11",
          "2019-02-11"
         ],
         "xaxis": "x",
         "y": [
          0,
          4.291
         ],
         "yaxis": "y"
        },
        {
         "legendgroup": "monday",
         "line": {
          "color": "gray",
          "dash": "dot",
          "width": 0.5
         },
         "mode": "lines",
         "name": "Mondays",
         "showlegend": false,
         "type": "scatter",
         "uid": "5a0679bc-25ae-4361-80ca-c5cbd835a0aa",
         "x": [
          "2019-02-18",
          "2019-02-18"
         ],
         "xaxis": "x",
         "y": [
          0,
          4.291
         ],
         "yaxis": "y"
        },
        {
         "legendgroup": "monday",
         "line": {
          "color": "gray",
          "dash": "dot",
          "width": 0.5
         },
         "mode": "lines",
         "name": "Mondays",
         "showlegend": false,
         "type": "scatter",
         "uid": "6931b397-9e9b-4d85-9a7f-39f948959753",
         "x": [
          "2019-02-25",
          "2019-02-25"
         ],
         "xaxis": "x",
         "y": [
          0,
          4.291
         ],
         "yaxis": "y"
        },
        {
         "legendgroup": "monday",
         "line": {
          "color": "gray",
          "dash": "dot",
          "width": 0.5
         },
         "mode": "lines",
         "name": "Mondays",
         "showlegend": false,
         "type": "scatter",
         "uid": "9e825430-571c-444e-9261-ca80f08be8e3",
         "x": [
          "2019-03-04",
          "2019-03-04"
         ],
         "xaxis": "x",
         "y": [
          0,
          4.291
         ],
         "yaxis": "y"
        },
        {
         "legendgroup": "monday",
         "line": {
          "color": "gray",
          "dash": "dot",
          "width": 0.5
         },
         "mode": "lines",
         "name": "Mondays",
         "showlegend": false,
         "type": "scatter",
         "uid": "e1b16477-885e-4332-b028-229e03ac9059",
         "x": [
          "2019-03-11",
          "2019-03-11"
         ],
         "xaxis": "x",
         "y": [
          0,
          4.291
         ],
         "yaxis": "y"
        },
        {
         "legendgroup": "monday",
         "line": {
          "color": "gray",
          "dash": "dot",
          "width": 0.5
         },
         "mode": "lines",
         "name": "Mondays",
         "showlegend": false,
         "type": "scatter",
         "uid": "b1fef885-d0b5-4edb-9be1-1078df10c03b",
         "x": [
          "2019-03-18",
          "2019-03-18"
         ],
         "xaxis": "x",
         "y": [
          0,
          4.291
         ],
         "yaxis": "y"
        },
        {
         "legendgroup": "monday",
         "line": {
          "color": "gray",
          "dash": "dot",
          "width": 0.5
         },
         "mode": "lines",
         "name": "Mondays",
         "showlegend": false,
         "type": "scatter",
         "uid": "5db3f784-0525-4439-822d-712545597bbf",
         "x": [
          "2019-03-25",
          "2019-03-25"
         ],
         "xaxis": "x",
         "y": [
          0,
          4.291
         ],
         "yaxis": "y"
        },
        {
         "legendgroup": "monday",
         "line": {
          "color": "gray",
          "dash": "dot",
          "width": 0.5
         },
         "mode": "lines",
         "name": "Mondays",
         "showlegend": false,
         "type": "scatter",
         "uid": "7b1586c0-26c2-4371-be35-f4589835cf75",
         "x": [
          "2019-04-01",
          "2019-04-01"
         ],
         "xaxis": "x",
         "y": [
          0,
          4.291
         ],
         "yaxis": "y"
        },
        {
         "legendgroup": "monday",
         "line": {
          "color": "gray",
          "dash": "dot",
          "width": 0.5
         },
         "mode": "lines",
         "name": "Mondays",
         "showlegend": false,
         "type": "scatter",
         "uid": "34802924-bfb9-4f1d-bf7b-bb36a0850358",
         "x": [
          "2019-04-08",
          "2019-04-08"
         ],
         "xaxis": "x",
         "y": [
          0,
          4.291
         ],
         "yaxis": "y"
        },
        {
         "legendgroup": "monday",
         "line": {
          "color": "gray",
          "dash": "dot",
          "width": 0.5
         },
         "mode": "lines",
         "name": "Mondays",
         "showlegend": false,
         "type": "scatter",
         "uid": "d7e783ed-d63b-488b-92a0-51dd00cd2d64",
         "x": [
          "2019-04-15",
          "2019-04-15"
         ],
         "xaxis": "x",
         "y": [
          0,
          4.291
         ],
         "yaxis": "y"
        },
        {
         "legendgroup": "monday",
         "line": {
          "color": "gray",
          "dash": "dot",
          "width": 0.5
         },
         "mode": "lines",
         "name": "Mondays",
         "showlegend": false,
         "type": "scatter",
         "uid": "0b0a8ce8-9cb8-4b53-86ae-9245b7145703",
         "x": [
          "2019-04-22",
          "2019-04-22"
         ],
         "xaxis": "x",
         "y": [
          0,
          4.291
         ],
         "yaxis": "y"
        },
        {
         "legendgroup": "monday",
         "line": {
          "color": "gray",
          "dash": "dot",
          "width": 0.5
         },
         "mode": "lines",
         "name": "Mondays",
         "showlegend": false,
         "type": "scatter",
         "uid": "d34bfec6-663e-455b-aa64-96589c2199fd",
         "x": [
          "2019-04-29",
          "2019-04-29"
         ],
         "xaxis": "x",
         "y": [
          0,
          4.291
         ],
         "yaxis": "y"
        },
        {
         "legendgroup": "monday",
         "line": {
          "color": "gray",
          "dash": "dot",
          "width": 0.5
         },
         "mode": "lines",
         "name": "Mondays",
         "showlegend": false,
         "type": "scatter",
         "uid": "a05a6164-5c81-47c9-9d49-195ceb0a3d2f",
         "x": [
          "2019-05-06",
          "2019-05-06"
         ],
         "xaxis": "x",
         "y": [
          0,
          4.291
         ],
         "yaxis": "y"
        },
        {
         "legendgroup": "monday",
         "line": {
          "color": "gray",
          "dash": "dot",
          "width": 0.5
         },
         "mode": "lines",
         "name": "Mondays",
         "showlegend": false,
         "type": "scatter",
         "uid": "16782cd7-2f35-47e8-8c66-0aac73ba9420",
         "x": [
          "2019-05-13",
          "2019-05-13"
         ],
         "xaxis": "x",
         "y": [
          0,
          4.291
         ],
         "yaxis": "y"
        },
        {
         "legendgroup": "monday",
         "line": {
          "color": "gray",
          "dash": "dot",
          "width": 0.5
         },
         "mode": "lines",
         "name": "Mondays",
         "showlegend": false,
         "type": "scatter",
         "uid": "30cfbea0-97d1-49ec-a168-5bd1b525a572",
         "x": [
          "2019-05-20",
          "2019-05-20"
         ],
         "xaxis": "x",
         "y": [
          0,
          4.291
         ],
         "yaxis": "y"
        },
        {
         "legendgroup": "restriction",
         "line": {
          "color": "red",
          "width": 1
         },
         "mode": "lines",
         "name": "Water restriction start",
         "showlegend": true,
         "type": "scatter",
         "uid": "8d5ab60a-1418-4f57-9c51-ea42846d14bd",
         "x": [
          "2019-02-13",
          "2019-02-13"
         ],
         "y": [
          0,
          4.291
         ],
         "yaxis": "y"
        },
        {
         "legendgroup": "restriction",
         "line": {
          "color": "darkgreen",
          "width": 1
         },
         "mode": "lines",
         "name": "Water restriction end",
         "showlegend": true,
         "type": "scatter",
         "uid": "93e125cf-9db3-4321-80d0-dc7e18f9b543",
         "x": [
          "2019-02-22",
          "2019-02-22"
         ],
         "y": [
          0,
          4.291
         ],
         "yaxis": "y"
        },
        {
         "legendgroup": "weight_ref",
         "line": {
          "color": "orange",
          "dash": "dashdot",
          "width": 1
         },
         "mode": "lines",
         "name": "85% reference weight",
         "showlegend": true,
         "type": "scatter",
         "uid": "fd7f98fd-f2a3-436f-8b2f-5ddd930ac02d",
         "x": [
          "2019-02-13",
          "2019-02-22"
         ],
         "y": [
          19.21,
          19.21
         ],
         "yaxis": "y2"
        },
        {
         "legendgroup": "weight_ref",
         "line": {
          "color": "red",
          "dash": "dashdot",
          "width": 1
         },
         "mode": "lines",
         "name": "75% reference weight",
         "showlegend": true,
         "type": "scatter",
         "uid": "777e2369-67ad-429b-9a08-8a2a4c0452c9",
         "x": [
          "2019-02-13",
          "2019-02-22"
         ],
         "y": [
          16.950000000000003,
          16.950000000000003
         ],
         "yaxis": "y2"
        },
        {
         "legendgroup": "restriction",
         "line": {
          "color": "red",
          "width": 1
         },
         "mode": "lines",
         "name": "Water restriction start",
         "showlegend": false,
         "type": "scatter",
         "uid": "408eb1bb-53f0-48e6-b538-548083085324",
         "x": [
          "2019-03-08",
          "2019-03-08"
         ],
         "y": [
          0,
          4.291
         ],
         "yaxis": "y"
        },
        {
         "legendgroup": "restriction",
         "line": {
          "color": "darkgreen",
          "width": 1
         },
         "mode": "lines",
         "name": "Water restriction end",
         "showlegend": false,
         "type": "scatter",
         "uid": "5e6cfc2b-1029-4ce4-af60-be2b6f662edc",
         "x": [
          "2019-05-10",
          "2019-05-10"
         ],
         "y": [
          0,
          4.291
         ],
         "yaxis": "y"
        },
        {
         "legendgroup": "weight_ref",
         "line": {
          "color": "orange",
          "dash": "dashdot",
          "width": 1
         },
         "mode": "lines",
         "name": "85% reference weight",
         "showlegend": false,
         "type": "scatter",
         "uid": "182a90a8-40d5-4e02-9013-8b36ba5a3ea3",
         "x": [
          "2019-03-08",
          "2019-05-10"
         ],
         "y": [
          19.465,
          19.465
         ],
         "yaxis": "y2"
        },
        {
         "legendgroup": "weight_ref",
         "line": {
          "color": "red",
          "dash": "dashdot",
          "width": 1
         },
         "mode": "lines",
         "name": "75% reference weight",
         "showlegend": false,
         "type": "scatter",
         "uid": "41341d94-8e40-4c71-bf3b-c8b00201fdfe",
         "x": [
          "2019-03-08",
          "2019-05-10"
         ],
         "y": [
          17.174999999999997,
          17.174999999999997
         ],
         "yaxis": "y2"
        }
       ],
       "layout": {
        "barmode": "stack",
        "height": 500,
        "legend": {
         "orientation": "v",
         "x": 1.1,
         "y": 0.9
        },
        "title": {
         "text": "Water intake and weight",
         "x": 0.3,
         "y": 0.9
        },
        "width": 1000,
        "xaxis": {
         "range": [
          "2019-02-10",
          "2019-05-26"
         ],
         "title": {
          "text": "Date"
         }
        },
        "yaxis": {
         "range": [
          0,
          4.291
         ],
         "title": {
          "text": "Water intake (mL)"
         }
        },
        "yaxis2": {
         "overlaying": "y",
         "side": "right",
         "title": {
          "text": "Weight (g)"
         }
        }
       }
      },
      "text/html": [
       "<div>\n",
       "        \n",
       "        \n",
       "            <div id=\"af3d61c6-e2ad-472a-bb0c-8db0e5630d4c\" class=\"plotly-graph-div\" style=\"height:500px; width:1000px;\"></div>\n",
       "            <script type=\"text/javascript\">\n",
       "                require([\"plotly\"], function(Plotly) {\n",
       "                    window.PLOTLYENV=window.PLOTLYENV || {};\n",
       "                    window.PLOTLYENV.BASE_URL='https://plot.ly';\n",
       "                    \n",
       "                if (document.getElementById(\"af3d61c6-e2ad-472a-bb0c-8db0e5630d4c\")) {\n",
       "                    Plotly.newPlot(\n",
       "                        'af3d61c6-e2ad-472a-bb0c-8db0e5630d4c',\n",
       "                        [{\"marker\": {\"color\": \"rgba(55, 128, 191, 0.7)\"}, \"name\": \"Water 10% Sucrose\", \"type\": \"bar\", \"uid\": \"0fb6f2a7-2ad6-46db-b194-ba7a8502a077\", \"x\": [\"2019-02-19\", \"2019-02-21\", \"2019-02-22\", \"2019-02-23\", \"2019-02-24\", \"2019-02-25\", \"2019-02-26\", \"2019-02-27\", \"2019-02-28\", \"2019-03-01\", \"2019-03-02\", \"2019-03-03\", \"2019-03-04\", \"2019-03-06\", \"2019-03-07\", \"2019-03-08\", \"2019-03-09\", \"2019-03-10\", \"2019-03-11\", \"2019-03-12\", \"2019-03-13\", \"2019-03-14\", \"2019-03-15\", \"2019-03-16\", \"2019-03-17\", \"2019-03-18\", \"2019-03-19\", \"2019-03-20\", \"2019-03-21\", \"2019-03-22\", \"2019-03-23\", \"2019-03-24\", \"2019-03-25\", \"2019-03-26\", \"2019-03-27\", \"2019-03-28\", \"2019-03-29\", \"2019-03-30\", \"2019-03-31\", \"2019-04-01\", \"2019-04-02\", \"2019-04-03\", \"2019-04-04\", \"2019-04-05\", \"2019-04-06\", \"2019-04-07\", \"2019-04-09\", \"2019-04-10\", \"2019-04-11\", \"2019-04-12\", \"2019-04-13\", \"2019-04-14\", \"2019-04-15\", \"2019-04-16\", \"2019-04-17\", \"2019-04-18\", \"2019-04-19\", \"2019-04-20\", \"2019-04-21\", \"2019-04-22\", \"2019-04-23\", \"2019-04-24\", \"2019-04-25\", \"2019-04-26\", \"2019-04-29\", \"2019-04-30\", \"2019-05-01\", \"2019-05-03\", \"2019-05-06\", \"2019-05-07\", \"2019-05-08\", \"2019-05-09\", \"2019-05-22\", \"2019-05-23\"], \"y\": [1.278, 0.7231000000000001, null, null, null, null, null, null, null, null, null, null, null, null, null, 0.5536, 0.1683, null, 0.5508, 0.567, 1.6173, 0.36, 1.9388, null, null, 1.548, 0.812, 0.6698, 2.0265, 0.4284, null, null, 0.511, 0.9828, 2.61, 2.1035, 1.5368, null, null, 1.5774, 1.1392, 2.1328, 1.5704, 1.782, null, null, 4.091, 2.1644, 2.3408, 1.9737, null, null, 2.6865, 2.5636, 2.2775, 1.692, 1.5203, null, null, 1.2236, 0.5874, 1.0131, 2.2034, 1.0098, 1.7367, 1.338, 1.8905, 0.225, 1.7595, 0.5616, 1.6031, 1.224, 0.6704, 0.8075], \"yaxis\": \"y\"}, {\"marker\": {\"color\": \"blue\"}, \"name\": \"Water\", \"type\": \"bar\", \"uid\": \"761b6c68-cf41-4c5d-8969-7c478bdfd47e\", \"x\": [\"2019-02-19\", \"2019-02-21\", \"2019-02-22\", \"2019-02-23\", \"2019-02-24\", \"2019-02-25\", \"2019-02-26\", \"2019-02-27\", \"2019-02-28\", \"2019-03-01\", \"2019-03-02\", \"2019-03-03\", \"2019-03-04\", \"2019-03-06\", \"2019-03-07\", \"2019-03-08\", \"2019-03-09\", \"2019-03-10\", \"2019-03-11\", \"2019-03-12\", \"2019-03-13\", \"2019-03-14\", \"2019-03-15\", \"2019-03-16\", \"2019-03-17\", \"2019-03-18\", \"2019-03-19\", \"2019-03-20\", \"2019-03-21\", \"2019-03-22\", \"2019-03-23\", \"2019-03-24\", \"2019-03-25\", \"2019-03-26\", \"2019-03-27\", \"2019-03-28\", \"2019-03-29\", \"2019-03-30\", \"2019-03-31\", \"2019-04-01\", \"2019-04-02\", \"2019-04-03\", \"2019-04-04\", \"2019-04-05\", \"2019-04-06\", \"2019-04-07\", \"2019-04-09\", \"2019-04-10\", \"2019-04-11\", \"2019-04-12\", \"2019-04-13\", \"2019-04-14\", \"2019-04-15\", \"2019-04-16\", \"2019-04-17\", \"2019-04-18\", \"2019-04-19\", \"2019-04-20\", \"2019-04-21\", \"2019-04-22\", \"2019-04-23\", \"2019-04-24\", \"2019-04-25\", \"2019-04-26\", \"2019-04-29\", \"2019-04-30\", \"2019-05-01\", \"2019-05-03\", \"2019-05-06\", \"2019-05-07\", \"2019-05-08\", \"2019-05-09\", \"2019-05-22\", \"2019-05-23\"], \"y\": [null, null, 0.0, 0.0, 0.0, 0.0, 0.0, 0.0, 0.0, 0.0, 0.0, 0.0, 0.0, 1.0, 1.0, null, 1.0, 1.0, null, null, null, null, null, 1.0, 1.0, null, null, null, null, null, 1.0, 1.0, null, null, null, null, null, 1.0, 1.0, null, null, null, null, null, 1.0, 1.0, null, null, null, null, 1.0, 1.0, null, null, null, null, null, 1.0, 1.0, null, null, null, null, null, null, null, null, null, null, null, null, null, null, null], \"yaxis\": \"y\"}, {\"legendgroup\": \"weight\", \"marker\": {\"color\": \"black\", \"line\": {\"color\": \"white\", \"width\": 1}, \"size\": 6}, \"mode\": \"lines+markers\", \"name\": \"Weight\", \"type\": \"scatter\", \"uid\": \"4528ec28-dc77-4aaf-80bd-a4d4e0d1ee4c\", \"x\": [\"2019-02-19\", \"2019-02-19\", \"2019-02-21\", \"2019-02-21\", \"2019-03-05\", \"2019-03-06\", \"2019-03-07\", \"2019-03-08\", \"2019-03-09\", \"2019-03-11\", \"2019-03-12\", \"2019-03-13\", \"2019-03-13\", \"2019-03-14\", \"2019-03-15\", \"2019-03-18\", \"2019-03-19\", \"2019-03-20\", \"2019-03-21\", \"2019-03-22\", \"2019-03-25\", \"2019-03-26\", \"2019-03-27\", \"2019-03-28\", \"2019-03-29\", \"2019-04-01\", \"2019-04-02\", \"2019-04-03\", \"2019-04-04\", \"2019-04-04\", \"2019-04-05\", \"2019-04-08\", \"2019-04-09\", \"2019-04-09\", \"2019-04-10\", \"2019-04-11\", \"2019-04-12\", \"2019-04-15\", \"2019-04-16\", \"2019-04-17\", \"2019-04-18\", \"2019-04-19\", \"2019-04-22\", \"2019-04-23\", \"2019-04-24\", \"2019-04-24\", \"2019-04-25\", \"2019-04-26\", \"2019-04-29\", \"2019-04-30\", \"2019-05-01\", \"2019-05-03\", \"2019-05-06\", \"2019-05-07\", \"2019-05-08\", \"2019-05-09\", \"2019-05-22\", \"2019-05-23\"], \"y\": [17.45, 18.0, 17.6, 17.3, 22.9, 21.6, 20.5, 20.0, 19.0, 19.5, 19.8, 19.5, 19.5, 20.5, 19.5, 20.33, 20.1, 19.01, 19.5, 19.5, 18.07, 19.7, 19.0, 20.0, 19.5, 19.33, 18.9, 18.6, 18.0, 18.0, 18.0, 18.9, 18.9, 18.9, 19.1, 19.3, 20.7, 18.9, 18.9, 20.7, 19.3, 18.78, 18.5, 18.0, 19.5, 19.5, 21.0, 19.5, 19.5, 20.0, 20.0, 21.09, 20.0, 19.5, 19.2, 19.25, 20.8, 20.7], \"yaxis\": \"y2\"}, {\"legendgroup\": \"monday\", \"line\": {\"color\": \"gray\", \"dash\": \"dot\", \"width\": 0.5}, \"mode\": \"lines\", \"name\": \"Mondays\", \"showlegend\": true, \"type\": \"scatter\", \"uid\": \"6bfefc46-c707-4199-8feb-9cbede084637\", \"x\": [\"2019-02-11\", \"2019-02-11\"], \"xaxis\": \"x\", \"y\": [0, 4.291], \"yaxis\": \"y\"}, {\"legendgroup\": \"monday\", \"line\": {\"color\": \"gray\", \"dash\": \"dot\", \"width\": 0.5}, \"mode\": \"lines\", \"name\": \"Mondays\", \"showlegend\": false, \"type\": \"scatter\", \"uid\": \"d8e4e840-d65c-4bc7-9475-99154d70934b\", \"x\": [\"2019-02-18\", \"2019-02-18\"], \"xaxis\": \"x\", \"y\": [0, 4.291], \"yaxis\": \"y\"}, {\"legendgroup\": \"monday\", \"line\": {\"color\": \"gray\", \"dash\": \"dot\", \"width\": 0.5}, \"mode\": \"lines\", \"name\": \"Mondays\", \"showlegend\": false, \"type\": \"scatter\", \"uid\": \"114b28c8-0858-4e6a-8685-92b83ec05511\", \"x\": [\"2019-02-25\", \"2019-02-25\"], \"xaxis\": \"x\", \"y\": [0, 4.291], \"yaxis\": \"y\"}, {\"legendgroup\": \"monday\", \"line\": {\"color\": \"gray\", \"dash\": \"dot\", \"width\": 0.5}, \"mode\": \"lines\", \"name\": \"Mondays\", \"showlegend\": false, \"type\": \"scatter\", \"uid\": \"9c28ab38-38d3-4105-9a77-8021ed524858\", \"x\": [\"2019-03-04\", \"2019-03-04\"], \"xaxis\": \"x\", \"y\": [0, 4.291], \"yaxis\": \"y\"}, {\"legendgroup\": \"monday\", \"line\": {\"color\": \"gray\", \"dash\": \"dot\", \"width\": 0.5}, \"mode\": \"lines\", \"name\": \"Mondays\", \"showlegend\": false, \"type\": \"scatter\", \"uid\": \"224e7acb-e2d1-45b9-b91c-e74b4f92913c\", \"x\": [\"2019-03-11\", \"2019-03-11\"], \"xaxis\": \"x\", \"y\": [0, 4.291], \"yaxis\": \"y\"}, {\"legendgroup\": \"monday\", \"line\": {\"color\": \"gray\", \"dash\": \"dot\", \"width\": 0.5}, \"mode\": \"lines\", \"name\": \"Mondays\", \"showlegend\": false, \"type\": \"scatter\", \"uid\": \"da75ffe5-724b-4b70-8d3a-56e37ddae1ae\", \"x\": [\"2019-03-18\", \"2019-03-18\"], \"xaxis\": \"x\", \"y\": [0, 4.291], \"yaxis\": \"y\"}, {\"legendgroup\": \"monday\", \"line\": {\"color\": \"gray\", \"dash\": \"dot\", \"width\": 0.5}, \"mode\": \"lines\", \"name\": \"Mondays\", \"showlegend\": false, \"type\": \"scatter\", \"uid\": \"bacb959c-c84a-4b76-b84d-b60aa5e361bb\", \"x\": [\"2019-03-25\", \"2019-03-25\"], \"xaxis\": \"x\", \"y\": [0, 4.291], \"yaxis\": \"y\"}, {\"legendgroup\": \"monday\", \"line\": {\"color\": \"gray\", \"dash\": \"dot\", \"width\": 0.5}, \"mode\": \"lines\", \"name\": \"Mondays\", \"showlegend\": false, \"type\": \"scatter\", \"uid\": \"6413da9b-6edd-4843-8556-beed0b0b06c9\", \"x\": [\"2019-04-01\", \"2019-04-01\"], \"xaxis\": \"x\", \"y\": [0, 4.291], \"yaxis\": \"y\"}, {\"legendgroup\": \"monday\", \"line\": {\"color\": \"gray\", \"dash\": \"dot\", \"width\": 0.5}, \"mode\": \"lines\", \"name\": \"Mondays\", \"showlegend\": false, \"type\": \"scatter\", \"uid\": \"a685f85f-06c0-4caa-b7c9-2415dcf73896\", \"x\": [\"2019-04-08\", \"2019-04-08\"], \"xaxis\": \"x\", \"y\": [0, 4.291], \"yaxis\": \"y\"}, {\"legendgroup\": \"monday\", \"line\": {\"color\": \"gray\", \"dash\": \"dot\", \"width\": 0.5}, \"mode\": \"lines\", \"name\": \"Mondays\", \"showlegend\": false, \"type\": \"scatter\", \"uid\": \"3e4d640e-289e-4eda-b928-f477f8619602\", \"x\": [\"2019-04-15\", \"2019-04-15\"], \"xaxis\": \"x\", \"y\": [0, 4.291], \"yaxis\": \"y\"}, {\"legendgroup\": \"monday\", \"line\": {\"color\": \"gray\", \"dash\": \"dot\", \"width\": 0.5}, \"mode\": \"lines\", \"name\": \"Mondays\", \"showlegend\": false, \"type\": \"scatter\", \"uid\": \"b071d339-e153-4699-b955-49597a7c6c3e\", \"x\": [\"2019-04-22\", \"2019-04-22\"], \"xaxis\": \"x\", \"y\": [0, 4.291], \"yaxis\": \"y\"}, {\"legendgroup\": \"monday\", \"line\": {\"color\": \"gray\", \"dash\": \"dot\", \"width\": 0.5}, \"mode\": \"lines\", \"name\": \"Mondays\", \"showlegend\": false, \"type\": \"scatter\", \"uid\": \"150cc5bf-f9d7-431d-93fa-2ce8da6849bb\", \"x\": [\"2019-04-29\", \"2019-04-29\"], \"xaxis\": \"x\", \"y\": [0, 4.291], \"yaxis\": \"y\"}, {\"legendgroup\": \"monday\", \"line\": {\"color\": \"gray\", \"dash\": \"dot\", \"width\": 0.5}, \"mode\": \"lines\", \"name\": \"Mondays\", \"showlegend\": false, \"type\": \"scatter\", \"uid\": \"c524115e-baca-42b6-be90-c66e7bcb4f02\", \"x\": [\"2019-05-06\", \"2019-05-06\"], \"xaxis\": \"x\", \"y\": [0, 4.291], \"yaxis\": \"y\"}, {\"legendgroup\": \"monday\", \"line\": {\"color\": \"gray\", \"dash\": \"dot\", \"width\": 0.5}, \"mode\": \"lines\", \"name\": \"Mondays\", \"showlegend\": false, \"type\": \"scatter\", \"uid\": \"e4038f8e-356c-4180-8595-e7497f8e1f78\", \"x\": [\"2019-05-13\", \"2019-05-13\"], \"xaxis\": \"x\", \"y\": [0, 4.291], \"yaxis\": \"y\"}, {\"legendgroup\": \"monday\", \"line\": {\"color\": \"gray\", \"dash\": \"dot\", \"width\": 0.5}, \"mode\": \"lines\", \"name\": \"Mondays\", \"showlegend\": false, \"type\": \"scatter\", \"uid\": \"77551fe3-aee8-462a-b729-f3bfe7756c8c\", \"x\": [\"2019-05-20\", \"2019-05-20\"], \"xaxis\": \"x\", \"y\": [0, 4.291], \"yaxis\": \"y\"}, {\"legendgroup\": \"restriction\", \"line\": {\"color\": \"red\", \"width\": 1}, \"mode\": \"lines\", \"name\": \"Water restriction start\", \"showlegend\": true, \"type\": \"scatter\", \"uid\": \"f1d01aab-a6c7-4133-83a6-857254f40c3d\", \"x\": [\"2019-02-13\", \"2019-02-13\"], \"y\": [0, 4.291], \"yaxis\": \"y\"}, {\"legendgroup\": \"restriction\", \"line\": {\"color\": \"darkgreen\", \"width\": 1}, \"mode\": \"lines\", \"name\": \"Water restriction end\", \"showlegend\": true, \"type\": \"scatter\", \"uid\": \"ca178d98-ed65-4ba4-b3fc-86fc75d92ec2\", \"x\": [\"2019-02-22\", \"2019-02-22\"], \"y\": [0, 4.291], \"yaxis\": \"y\"}, {\"legendgroup\": \"weight_ref\", \"line\": {\"color\": \"orange\", \"dash\": \"dashdot\", \"width\": 1}, \"mode\": \"lines\", \"name\": \"85% reference weight\", \"showlegend\": true, \"type\": \"scatter\", \"uid\": \"2a6d48da-8b40-4dc6-bffd-81713900089e\", \"x\": [\"2019-02-13\", \"2019-02-22\"], \"y\": [19.21, 19.21], \"yaxis\": \"y2\"}, {\"legendgroup\": \"weight_ref\", \"line\": {\"color\": \"red\", \"dash\": \"dashdot\", \"width\": 1}, \"mode\": \"lines\", \"name\": \"75% reference weight\", \"showlegend\": true, \"type\": \"scatter\", \"uid\": \"fb006e89-e3c6-460b-9b2f-b92ccc190b3a\", \"x\": [\"2019-02-13\", \"2019-02-22\"], \"y\": [16.950000000000003, 16.950000000000003], \"yaxis\": \"y2\"}, {\"legendgroup\": \"restriction\", \"line\": {\"color\": \"red\", \"width\": 1}, \"mode\": \"lines\", \"name\": \"Water restriction start\", \"showlegend\": false, \"type\": \"scatter\", \"uid\": \"9d700d93-9985-4ef8-9c53-d366c80fd2fc\", \"x\": [\"2019-03-08\", \"2019-03-08\"], \"y\": [0, 4.291], \"yaxis\": \"y\"}, {\"legendgroup\": \"restriction\", \"line\": {\"color\": \"darkgreen\", \"width\": 1}, \"mode\": \"lines\", \"name\": \"Water restriction end\", \"showlegend\": false, \"type\": \"scatter\", \"uid\": \"147ef2a5-9f7e-462a-931d-5f635abd2e66\", \"x\": [\"2019-05-10\", \"2019-05-10\"], \"y\": [0, 4.291], \"yaxis\": \"y\"}, {\"legendgroup\": \"weight_ref\", \"line\": {\"color\": \"orange\", \"dash\": \"dashdot\", \"width\": 1}, \"mode\": \"lines\", \"name\": \"85% reference weight\", \"showlegend\": false, \"type\": \"scatter\", \"uid\": \"4c7ca3b6-fecf-493c-ab18-cc0dceb5552c\", \"x\": [\"2019-03-08\", \"2019-05-10\"], \"y\": [19.465, 19.465], \"yaxis\": \"y2\"}, {\"legendgroup\": \"weight_ref\", \"line\": {\"color\": \"red\", \"dash\": \"dashdot\", \"width\": 1}, \"mode\": \"lines\", \"name\": \"75% reference weight\", \"showlegend\": false, \"type\": \"scatter\", \"uid\": \"6554ca18-4965-4f27-b411-b0059028f00b\", \"x\": [\"2019-03-08\", \"2019-05-10\"], \"y\": [17.174999999999997, 17.174999999999997], \"yaxis\": \"y2\"}],\n",
       "                        {\"barmode\": \"stack\", \"height\": 500, \"legend\": {\"orientation\": \"v\", \"x\": 1.1, \"y\": 0.9}, \"title\": {\"text\": \"Water intake and weight\", \"x\": 0.3, \"y\": 0.9}, \"width\": 1000, \"xaxis\": {\"range\": [\"2019-02-10\", \"2019-05-26\"], \"title\": {\"text\": \"Date\"}}, \"yaxis\": {\"range\": [0, 4.291], \"title\": {\"text\": \"Water intake (mL)\"}}, \"yaxis2\": {\"overlaying\": \"y\", \"side\": \"right\", \"title\": {\"text\": \"Weight (g)\"}}},\n",
       "                        {\"showLink\": false, \"linkText\": \"Export to plot.ly\", \"plotlyServerURL\": \"https://plot.ly\", \"responsive\": true}\n",
       "                    ).then(function(){\n",
       "                            \n",
       "var gd = document.getElementById('af3d61c6-e2ad-472a-bb0c-8db0e5630d4c');\n",
       "var x = new MutationObserver(function (mutations, observer) {{\n",
       "        var display = window.getComputedStyle(gd).display;\n",
       "        if (!display || display === 'none') {{\n",
       "            console.log([gd, 'removed!']);\n",
       "            Plotly.purge(gd);\n",
       "            observer.disconnect();\n",
       "        }}\n",
       "}});\n",
       "\n",
       "// Listen for the removal of the full notebook cells\n",
       "var notebookContainer = gd.closest('#notebook-container');\n",
       "if (notebookContainer) {{\n",
       "    x.observe(notebookContainer, {childList: true});\n",
       "}}\n",
       "\n",
       "// Listen for the clearing of the current output cell\n",
       "var outputEl = gd.closest('.output');\n",
       "if (outputEl) {{\n",
       "    x.observe(outputEl, {childList: true});\n",
       "}}\n",
       "\n",
       "                        })\n",
       "                };\n",
       "                });\n",
       "            </script>\n",
       "        </div>"
      ]
     },
     "metadata": {},
     "output_type": "display_data"
    }
   ],
   "source": [
    "subj = subject.Subject & {'subject_nickname': 'ibl_witten_10'}\n",
    "# get water and date\n",
    "water_info_query = (action.WaterAdministration & subj).proj(\n",
    "    'water_administered', 'watertype_name', water_date='DATE(administration_time)')\n",
    "water_info = water_info_query.fetch(as_dict=True)\n",
    "water_info = pd.DataFrame(water_info)\n",
    "water_types = water_info.watertype_name.unique()\n",
    "water_info_type = water_info.pivot_table(\n",
    "    index='water_date', columns='watertype_name', values='water_administered', aggfunc='sum')\n",
    "max_water_intake = np.nanmax(water_info_type.values) + 0.2\n",
    "yrange_water = [0, max_water_intake]\n",
    "water_info_type = water_info_type.where((pd.notnull(water_info_type)), None)\n",
    "weight_info_query = (action.Weighing & subj).proj(\n",
    "    'weight', weighing_date='DATE(weighing_time)')\n",
    "weight_info = weight_info_query.fetch(as_dict=True)\n",
    "weight_info = pd.DataFrame(weight_info)\n",
    "weight_info = weight_info.where((pd.notnull(weight_info)), None)\n",
    "\n",
    "# get water restriction period\n",
    "water_restrictions = (action.WaterRestriction & subj).proj(\n",
    "    'reference_weight',\n",
    "    res_start='DATE(restriction_start_time)', res_end='DATE(restriction_end_time)')\n",
    "\n",
    "\n",
    "data = [\n",
    "    go.Bar(\n",
    "        x = [t.strftime('%Y-%m-%d') for t in water_info_type.index.tolist()],\n",
    "        y = water_info_type[water_type].tolist(),\n",
    "        marker = dict(color = water_type_map[water_type]),\n",
    "        name = water_type,\n",
    "        yaxis = 'y1',\n",
    "    )\n",
    "    for water_type in water_types\n",
    "]\n",
    "\n",
    "data.append(\n",
    "    go.Scatter(\n",
    "        x=[t.strftime('%Y-%m-%d') for t in weight_info['weighing_date'].tolist()],\n",
    "        y=weight_info['weight'].tolist(),\n",
    "        mode='lines+markers',\n",
    "        name='Weight',\n",
    "        marker=dict(\n",
    "            size=6,\n",
    "            color='black',\n",
    "            line = dict(\n",
    "            color = 'white',\n",
    "            width = 1)\n",
    "        ),\n",
    "        legendgroup='weight',\n",
    "        yaxis = 'y2'\n",
    "    ))\n",
    "\n",
    "# monday marks\n",
    "data = putils.create_monday_plot(data, yrange_water, d['mondays'])\n",
    "\n",
    "# water restriction marks and reference weight marks\n",
    "for iwater, water_res in enumerate(water_restrictions.fetch(as_dict=True)):\n",
    "    \n",
    "    if iwater==0:\n",
    "        show_res_legend = True\n",
    "    else:\n",
    "        show_res_legend = False\n",
    "    \n",
    "    res_start = water_res['res_start'].strftime('%Y-%m-%d')\n",
    "    \n",
    "    if water_res['res_end']:\n",
    "        res_end = water_res['res_end'].strftime('%Y-%m-%d')\n",
    "    else:\n",
    "        res_end = last_date_str\n",
    "    data.append(\n",
    "        go.Scatter(\n",
    "            x=[res_start, res_start],\n",
    "            y=yrange_water,\n",
    "            mode=\"lines\",\n",
    "            line=dict(\n",
    "                width=1,\n",
    "                color='red',\n",
    "            ),\n",
    "            name='Water restriction start',\n",
    "            yaxis='y1',\n",
    "            showlegend=show_res_legend,\n",
    "            legendgroup='restriction'\n",
    "        )\n",
    "    )\n",
    "    \n",
    "    if water_res['res_end']:\n",
    "\n",
    "        data.append(\n",
    "            go.Scatter(\n",
    "                x=[res_end, res_end],\n",
    "                y=yrange_water,\n",
    "                mode=\"lines\",\n",
    "                line=dict(\n",
    "                    width=1,\n",
    "                    color='darkgreen',\n",
    "                ),\n",
    "                name='Water restriction end',\n",
    "                yaxis='y1',\n",
    "                showlegend=show_res_legend,\n",
    "                legendgroup='restriction'\n",
    "            )\n",
    "        )\n",
    "    \n",
    "     \n",
    "    data.append(\n",
    "        go.Scatter(\n",
    "            x=[res_start, res_end],\n",
    "            y=[water_res['reference_weight']*0.85, water_res['reference_weight']*0.85],\n",
    "            mode=\"lines\",\n",
    "            line=dict(\n",
    "                width=1,\n",
    "                color='orange',\n",
    "                dash='dashdot'\n",
    "            ),\n",
    "            name='85% reference weight',\n",
    "            yaxis='y2',\n",
    "            showlegend=show_res_legend,\n",
    "            legendgroup='weight_ref'\n",
    "        )\n",
    "    )\n",
    "    \n",
    "    data.append(\n",
    "        go.Scatter(\n",
    "            x=[res_start, res_end],\n",
    "            y=[water_res['reference_weight']*0.75, water_res['reference_weight']*0.75],\n",
    "            mode=\"lines\",\n",
    "            line=dict(\n",
    "                width=1,\n",
    "                color='red',\n",
    "                dash='dashdot'\n",
    "            ),\n",
    "            name='75% reference weight',\n",
    "            yaxis='y2',\n",
    "            showlegend=show_res_legend,\n",
    "            legendgroup='weight_ref'\n",
    "        )\n",
    "    )\n",
    "\n",
    "\n",
    "\n",
    "layout = go.Layout(\n",
    "    yaxis=dict(\n",
    "        title='Water intake (mL)',\n",
    "        range=yrange_water\n",
    "    ),\n",
    "    yaxis2=dict(\n",
    "        title='Weight (g)',\n",
    "        overlaying='y',\n",
    "        side='right',\n",
    "    ),\n",
    "    width=1000,\n",
    "    height=500,\n",
    "    title=dict(\n",
    "        text='Water intake and weight',\n",
    "        x=0.3,\n",
    "        y=0.9\n",
    "    ),\n",
    "    xaxis=dict(\n",
    "        title='Date',\n",
    "        range=[d['first_date_str'], d['last_date_str']]\n",
    "    ), \n",
    "    legend=dict(\n",
    "        x=1.1, \n",
    "        y=0.9,\n",
    "        orientation='v'),\n",
    "    barmode='stack'\n",
    ")\n",
    "fig = go.Figure(data=data, layout=layout)\n",
    "plotly.offline.iplot(fig)"
   ]
  },
  {
   "cell_type": "code",
   "execution_count": 6,
   "metadata": {},
   "outputs": [],
   "source": [
    "f = open(\"water_weight.json\",\"w\")\n",
    "s = json.dumps(fig.to_plotly_json())\n",
    "f.write(s)\n",
    "f.close()"
   ]
  }
 ],
 "metadata": {
  "kernelspec": {
   "display_name": "Python 3",
   "language": "python",
   "name": "python3"
  },
  "language_info": {
   "codemirror_mode": {
    "name": "ipython",
    "version": 3
   },
   "file_extension": ".py",
   "mimetype": "text/x-python",
   "name": "python",
   "nbconvert_exporter": "python",
   "pygments_lexer": "ipython3",
   "version": "3.6.6"
  }
 },
 "nbformat": 4,
 "nbformat_minor": 2
}
