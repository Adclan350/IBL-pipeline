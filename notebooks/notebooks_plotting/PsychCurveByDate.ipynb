{
 "cells": [
  {
   "cell_type": "code",
   "execution_count": 1,
   "metadata": {},
   "outputs": [
    {
     "name": "stdout",
     "output_type": "stream",
     "text": [
      "Connecting shan@datajoint.internationalbrainlab.org:3306\n"
     ]
    },
    {
     "data": {
      "text/html": [
       "        <script type=\"text/javascript\">\n",
       "        window.PlotlyConfig = {MathJaxConfig: 'local'};\n",
       "        if (window.MathJax) {MathJax.Hub.Config({SVG: {font: \"STIX-Web\"}});}\n",
       "        if (typeof require !== 'undefined') {\n",
       "        require.undef(\"plotly\");\n",
       "        requirejs.config({\n",
       "            paths: {\n",
       "                'plotly': ['https://cdn.plot.ly/plotly-latest.min']\n",
       "            }\n",
       "        });\n",
       "        require(['plotly'], function(Plotly) {\n",
       "            window._Plotly = Plotly;\n",
       "        });\n",
       "        }\n",
       "        </script>\n",
       "        "
      ]
     },
     "metadata": {},
     "output_type": "display_data"
    }
   ],
   "source": [
    "from ibl_pipeline.analyses import behavior as behavior_analyses\n",
    "from ibl_pipeline import behavior as behavior\n",
    "from ibl_pipeline import subject, acquisition\n",
    "from ibl_pipeline.utils import psychofit as psy\n",
    "import numpy as np\n",
    "import datetime\n",
    "import datajoint as dj\n",
    "import json\n",
    "import seaborn as sns\n",
    "import pandas as pd\n",
    "import plotly\n",
    "import plotly.graph_objs as go\n",
    "import statsmodels.stats.proportion as smp\n",
    "plotly.offline.init_notebook_mode(connected=True)"
   ]
  },
  {
   "cell_type": "code",
   "execution_count": 2,
   "metadata": {},
   "outputs": [
    {
     "ename": "DataJointError",
     "evalue": "Error in query:\nSELECT `subject_uuid`,`session_date`,`prob_left_block`,`prob_left`,`signed_contrasts`,`n_trials_stim`,`n_trials_stim_right`,`prob_choose_right`,`threshold`,`bias`,`lapse_low`,`lapse_high` FROM `ibl_analyses_behavior`.`__behavioral_summary_by_date__psych_results` WHERE ((`subject_uuid`=X'95241a9c481b443c83a7462165f729ec') AND (`session_date`='2019-04-18')) AND ((`subject_uuid`=X'95241a9c481b443c83a7462165f729ec') AND (`session_date`='2019-04-18') AND (`prob_left_block`=0) AND (`prob_left`=0.5) AND (`signed_contrasts`=array([-1.    , -0.25  , -0.125 , -0.0625,  0.    ,  0.0625,  0.125 ,\n        0.25  ,  1.    ])) AND (`n_trials_stim`=array([11, 12, 10, 12, 11,  7,  9,  9,  9])) AND (`n_trials_stim_right`=array([ 2,  3,  5, 11, 11,  5,  9,  9,  9])) AND (`prob_choose_right`=array([0.18181818, 0.25      , 0.5       , 0.91666667, 1.        ,\n       0.71428571, 1.        , 1.        , 1.        ])) AND (`threshold`=4.57384) AND (`bias`=-11.5309) AND (`lapse_low`=0.217433) AND (`lapse_high`=0.044571))\nPlease check spelling, syntax, and existence of tables and attributes.\nWhen restricting a relation by a condition in a string, enclose attributes in backquotes.",
     "output_type": "error",
     "traceback": [
      "\u001b[0;31m---------------------------------------------------------------------------\u001b[0m",
      "\u001b[0;31mDataJointError\u001b[0m                            Traceback (most recent call last)",
      "\u001b[0;32m<ipython-input-2-2702e1b5589e>\u001b[0m in \u001b[0;36m<module>\u001b[0;34m\u001b[0m\n\u001b[1;32m     11\u001b[0m         (sessions & session).fetch1(\n\u001b[1;32m     12\u001b[0m             \u001b[0;34m'signed_contrasts'\u001b[0m\u001b[0;34m,\u001b[0m \u001b[0;34m'prob_choose_right'\u001b[0m\u001b[0;34m,\u001b[0m \u001b[0;34m'prob_left'\u001b[0m\u001b[0;34m,\u001b[0m \u001b[0;34m'threshold'\u001b[0m\u001b[0;34m,\u001b[0m \u001b[0;34m'bias'\u001b[0m\u001b[0;34m,\u001b[0m\u001b[0;34m\u001b[0m\u001b[0m\n\u001b[0;32m---> 13\u001b[0;31m             'lapse_low', 'lapse_high', 'n_trials_stim', 'n_trials_stim_right')\n\u001b[0m\u001b[1;32m     14\u001b[0m     \u001b[0mpars\u001b[0m \u001b[0;34m=\u001b[0m \u001b[0;34m[\u001b[0m\u001b[0mbias\u001b[0m\u001b[0;34m,\u001b[0m \u001b[0mthreshold\u001b[0m\u001b[0;34m,\u001b[0m \u001b[0mlapse_low\u001b[0m\u001b[0;34m,\u001b[0m \u001b[0mlapse_high\u001b[0m\u001b[0;34m]\u001b[0m\u001b[0;34m\u001b[0m\u001b[0m\n\u001b[1;32m     15\u001b[0m     \u001b[0mcontrasts\u001b[0m \u001b[0;34m=\u001b[0m \u001b[0mcontrasts\u001b[0m \u001b[0;34m*\u001b[0m \u001b[0;36m100\u001b[0m\u001b[0;34m\u001b[0m\u001b[0m\n",
      "\u001b[0;32m/usr/local/lib/python3.6/dist-packages/datajoint/fetch.py\u001b[0m in \u001b[0;36m__call__\u001b[0;34m(self, squeeze, download_path, *attrs)\u001b[0m\n\u001b[1;32m    189\u001b[0m         \u001b[0;32melse\u001b[0m\u001b[0;34m:\u001b[0m  \u001b[0;31m# fetch some attributes, return as tuple\u001b[0m\u001b[0;34m\u001b[0m\u001b[0m\n\u001b[1;32m    190\u001b[0m             \u001b[0mattributes\u001b[0m \u001b[0;34m=\u001b[0m \u001b[0;34m[\u001b[0m\u001b[0ma\u001b[0m \u001b[0;32mfor\u001b[0m \u001b[0ma\u001b[0m \u001b[0;32min\u001b[0m \u001b[0mattrs\u001b[0m \u001b[0;32mif\u001b[0m \u001b[0;32mnot\u001b[0m \u001b[0mis_key\u001b[0m\u001b[0;34m(\u001b[0m\u001b[0ma\u001b[0m\u001b[0;34m)\u001b[0m\u001b[0;34m]\u001b[0m\u001b[0;34m\u001b[0m\u001b[0m\n\u001b[0;32m--> 191\u001b[0;31m             \u001b[0mresult\u001b[0m \u001b[0;34m=\u001b[0m \u001b[0mself\u001b[0m\u001b[0;34m.\u001b[0m\u001b[0m_expression\u001b[0m\u001b[0;34m.\u001b[0m\u001b[0mproj\u001b[0m\u001b[0;34m(\u001b[0m\u001b[0;34m*\u001b[0m\u001b[0mattributes\u001b[0m\u001b[0;34m)\u001b[0m\u001b[0;34m.\u001b[0m\u001b[0mfetch\u001b[0m\u001b[0;34m(\u001b[0m\u001b[0msqueeze\u001b[0m\u001b[0;34m=\u001b[0m\u001b[0msqueeze\u001b[0m\u001b[0;34m,\u001b[0m \u001b[0mdownload_path\u001b[0m\u001b[0;34m=\u001b[0m\u001b[0mdownload_path\u001b[0m\u001b[0;34m)\u001b[0m\u001b[0;34m\u001b[0m\u001b[0m\n\u001b[0m\u001b[1;32m    192\u001b[0m             \u001b[0;32mif\u001b[0m \u001b[0mlen\u001b[0m\u001b[0;34m(\u001b[0m\u001b[0mresult\u001b[0m\u001b[0;34m)\u001b[0m \u001b[0;34m!=\u001b[0m \u001b[0;36m1\u001b[0m\u001b[0;34m:\u001b[0m\u001b[0;34m\u001b[0m\u001b[0m\n\u001b[1;32m    193\u001b[0m                 \u001b[0;32mraise\u001b[0m \u001b[0mDataJointError\u001b[0m\u001b[0;34m(\u001b[0m\u001b[0;34m'fetch1 should only return one tuple. %d tuples were found'\u001b[0m \u001b[0;34m%\u001b[0m \u001b[0mlen\u001b[0m\u001b[0;34m(\u001b[0m\u001b[0mresult\u001b[0m\u001b[0;34m)\u001b[0m\u001b[0;34m)\u001b[0m\u001b[0;34m\u001b[0m\u001b[0m\n",
      "\u001b[0;32m/usr/local/lib/python3.6/dist-packages/datajoint/fetch.py\u001b[0m in \u001b[0;36m__call__\u001b[0;34m(self, offset, limit, order_by, format, as_dict, squeeze, download_path, *attrs)\u001b[0m\n\u001b[1;32m    128\u001b[0m         \u001b[0;32mif\u001b[0m \u001b[0;32mnot\u001b[0m \u001b[0mattrs\u001b[0m\u001b[0;34m:\u001b[0m\u001b[0;34m\u001b[0m\u001b[0m\n\u001b[1;32m    129\u001b[0m             \u001b[0;31m# fetch all attributes as a numpy.record_array or pandas.DataFrame\u001b[0m\u001b[0;34m\u001b[0m\u001b[0;34m\u001b[0m\u001b[0m\n\u001b[0;32m--> 130\u001b[0;31m             \u001b[0mcur\u001b[0m \u001b[0;34m=\u001b[0m \u001b[0mself\u001b[0m\u001b[0;34m.\u001b[0m\u001b[0m_expression\u001b[0m\u001b[0;34m.\u001b[0m\u001b[0mcursor\u001b[0m\u001b[0;34m(\u001b[0m\u001b[0mas_dict\u001b[0m\u001b[0;34m=\u001b[0m\u001b[0mas_dict\u001b[0m\u001b[0;34m,\u001b[0m \u001b[0mlimit\u001b[0m\u001b[0;34m=\u001b[0m\u001b[0mlimit\u001b[0m\u001b[0;34m,\u001b[0m \u001b[0moffset\u001b[0m\u001b[0;34m=\u001b[0m\u001b[0moffset\u001b[0m\u001b[0;34m,\u001b[0m \u001b[0morder_by\u001b[0m\u001b[0;34m=\u001b[0m\u001b[0morder_by\u001b[0m\u001b[0;34m)\u001b[0m\u001b[0;34m\u001b[0m\u001b[0m\n\u001b[0m\u001b[1;32m    131\u001b[0m             \u001b[0mheading\u001b[0m \u001b[0;34m=\u001b[0m \u001b[0mself\u001b[0m\u001b[0;34m.\u001b[0m\u001b[0m_expression\u001b[0m\u001b[0;34m.\u001b[0m\u001b[0mheading\u001b[0m\u001b[0;34m\u001b[0m\u001b[0m\n\u001b[1;32m    132\u001b[0m             \u001b[0;32mif\u001b[0m \u001b[0mas_dict\u001b[0m\u001b[0;34m:\u001b[0m\u001b[0;34m\u001b[0m\u001b[0m\n",
      "\u001b[0;32m/usr/local/lib/python3.6/dist-packages/datajoint/expression.py\u001b[0m in \u001b[0;36mcursor\u001b[0;34m(self, offset, limit, order_by, as_dict)\u001b[0m\n\u001b[1;32m    564\u001b[0m             \u001b[0msql\u001b[0m \u001b[0;34m+=\u001b[0m \u001b[0;34m' LIMIT %d'\u001b[0m \u001b[0;34m%\u001b[0m \u001b[0mlimit\u001b[0m \u001b[0;34m+\u001b[0m \u001b[0;34m(\u001b[0m\u001b[0;34m' OFFSET %d'\u001b[0m \u001b[0;34m%\u001b[0m \u001b[0moffset\u001b[0m \u001b[0;32mif\u001b[0m \u001b[0moffset\u001b[0m \u001b[0;32melse\u001b[0m \u001b[0;34m\"\"\u001b[0m\u001b[0;34m)\u001b[0m\u001b[0;34m\u001b[0m\u001b[0m\n\u001b[1;32m    565\u001b[0m         \u001b[0mlogger\u001b[0m\u001b[0;34m.\u001b[0m\u001b[0mdebug\u001b[0m\u001b[0;34m(\u001b[0m\u001b[0msql\u001b[0m\u001b[0;34m)\u001b[0m\u001b[0;34m\u001b[0m\u001b[0m\n\u001b[0;32m--> 566\u001b[0;31m         \u001b[0;32mreturn\u001b[0m \u001b[0mself\u001b[0m\u001b[0;34m.\u001b[0m\u001b[0mconnection\u001b[0m\u001b[0;34m.\u001b[0m\u001b[0mquery\u001b[0m\u001b[0;34m(\u001b[0m\u001b[0msql\u001b[0m\u001b[0;34m,\u001b[0m \u001b[0mas_dict\u001b[0m\u001b[0;34m=\u001b[0m\u001b[0mas_dict\u001b[0m\u001b[0;34m)\u001b[0m\u001b[0;34m\u001b[0m\u001b[0m\n\u001b[0m\u001b[1;32m    567\u001b[0m \u001b[0;34m\u001b[0m\u001b[0m\n\u001b[1;32m    568\u001b[0m \u001b[0;34m\u001b[0m\u001b[0m\n",
      "\u001b[0;32m/usr/local/lib/python3.6/dist-packages/datajoint/connection.py\u001b[0m in \u001b[0;36mquery\u001b[0;34m(self, query, args, as_dict, suppress_warnings, reconnect)\u001b[0m\n\u001b[1;32m    166\u001b[0m                     \u001b[0;34m\"Please check spelling, syntax, and existence of tables and attributes.\"\u001b[0m\u001b[0;34m,\u001b[0m\u001b[0;34m\u001b[0m\u001b[0m\n\u001b[1;32m    167\u001b[0m                     \u001b[0;34m\"When restricting a relation by a condition in a string, enclose attributes in backquotes.\"\u001b[0m\u001b[0;34m\u001b[0m\u001b[0m\n\u001b[0;32m--> 168\u001b[0;31m                 ))) from None\n\u001b[0m\u001b[1;32m    169\u001b[0m         \u001b[0;32mreturn\u001b[0m \u001b[0mcur\u001b[0m\u001b[0;34m\u001b[0m\u001b[0m\n\u001b[1;32m    170\u001b[0m \u001b[0;34m\u001b[0m\u001b[0m\n",
      "\u001b[0;31mDataJointError\u001b[0m: Error in query:\nSELECT `subject_uuid`,`session_date`,`prob_left_block`,`prob_left`,`signed_contrasts`,`n_trials_stim`,`n_trials_stim_right`,`prob_choose_right`,`threshold`,`bias`,`lapse_low`,`lapse_high` FROM `ibl_analyses_behavior`.`__behavioral_summary_by_date__psych_results` WHERE ((`subject_uuid`=X'95241a9c481b443c83a7462165f729ec') AND (`session_date`='2019-04-18')) AND ((`subject_uuid`=X'95241a9c481b443c83a7462165f729ec') AND (`session_date`='2019-04-18') AND (`prob_left_block`=0) AND (`prob_left`=0.5) AND (`signed_contrasts`=array([-1.    , -0.25  , -0.125 , -0.0625,  0.    ,  0.0625,  0.125 ,\n        0.25  ,  1.    ])) AND (`n_trials_stim`=array([11, 12, 10, 12, 11,  7,  9,  9,  9])) AND (`n_trials_stim_right`=array([ 2,  3,  5, 11, 11,  5,  9,  9,  9])) AND (`prob_choose_right`=array([0.18181818, 0.25      , 0.5       , 0.91666667, 1.        ,\n       0.71428571, 1.        , 1.        , 1.        ])) AND (`threshold`=4.57384) AND (`bias`=-11.5309) AND (`lapse_low`=0.217433) AND (`lapse_high`=0.044571))\nPlease check spelling, syntax, and existence of tables and attributes.\nWhen restricting a relation by a condition in a string, enclose attributes in backquotes."
     ]
    }
   ],
   "source": [
    "# Regular plotting\n",
    "subj_uuid = (subject.Subject & 'subject_nickname=\"IBL-T3\"').fetch1('subject_uuid')\n",
    "key = {'subject_uuid': subj_uuid,\n",
    "   'session_date': datetime.date(2019, 4, 18)}\n",
    "sessions = behavior_analyses.BehavioralSummaryByDate.PsychResults & key\n",
    "\n",
    "data = []\n",
    "\n",
    "for session in sessions:\n",
    "    contrasts, prob_right, prob_left, threshold, bias, lapse_low, lapse_high, n_trials, n_trials_right = \\\n",
    "        (sessions & session).fetch1(\n",
    "            'signed_contrasts', 'prob_choose_right', 'prob_left', 'threshold', 'bias', \n",
    "            'lapse_low', 'lapse_high', 'n_trials_stim', 'n_trials_stim_right')\n",
    "    pars = [bias, threshold, lapse_low, lapse_high]\n",
    "    contrasts = contrasts * 100\n",
    "    contrasts_fit = np.arange(-100, 100)\n",
    "    prob_right_fit = psy.erf_psycho_2gammas(pars, contrasts_fit)\n",
    "    ci = smp.proportion_confint(\n",
    "    n_trials_right, n_trials, alpha=0.032, method='normal') - prob_right\n",
    "    \n",
    "    if prob_left == 0.2:\n",
    "        curve_color = 'orange'\n",
    "    elif prob_left == 0.5:\n",
    "        curve_color = 'black'\n",
    "    elif prob_left == 0.8:\n",
    "        curve_color = 'cornflowerblue'\n",
    "    else:\n",
    "        continue\n",
    "\n",
    "    behavior_data = go.Scatter(\n",
    "        x = contrasts.tolist(),\n",
    "        y = prob_right.tolist(),\n",
    "        error_y = dict(\n",
    "                    type='data',\n",
    "                    array=ci[0].tolist(),\n",
    "                    arrayminus=np.negative(ci[1]).tolist(),\n",
    "                    visible=True\n",
    "            ),\n",
    "        marker = dict(\n",
    "                size = 6,\n",
    "                color = curve_color),\n",
    "        mode = 'markers',\n",
    "        name = f'p_left = {prob_left}, data'\n",
    "    )\n",
    "\n",
    "    behavior_fit = go.Scatter(\n",
    "        x = contrasts_fit.tolist(),\n",
    "        y = prob_right_fit.tolist(),\n",
    "        name = f'p_left = {prob_left} model fits',\n",
    "        marker = dict(color=curve_color)\n",
    "    )\n",
    "\n",
    "    data.append(behavior_data)\n",
    "    data.append(behavior_fit)\n",
    "\n",
    "layout = go.Layout(\n",
    "    width=630,\n",
    "    height=400,\n",
    "    title='Psychometric Curve', \n",
    "    xaxis={'title':'Contrast(%)'}, \n",
    "    yaxis={'title':'Probability choosing right',\n",
    "           'range': [-0.05, 1.05]},\n",
    ")\n",
    "\n",
    "fig = go.Figure(data=data, layout=layout)\n",
    "plotly.offline.iplot(fig)"
   ]
  },
  {
   "cell_type": "code",
   "execution_count": null,
   "metadata": {},
   "outputs": [],
   "source": [
    "f = open(\"psych_results_date.json\",\"w\")\n",
    "s = json.dumps(fig.to_plotly_json())\n",
    "f.write(s)\n",
    "f.close()"
   ]
  },
  {
   "cell_type": "code",
   "execution_count": null,
   "metadata": {},
   "outputs": [],
   "source": []
  }
 ],
 "metadata": {
  "kernelspec": {
   "display_name": "Python 3",
   "language": "python",
   "name": "python3"
  },
  "language_info": {
   "codemirror_mode": {
    "name": "ipython",
    "version": 3
   },
   "file_extension": ".py",
   "mimetype": "text/x-python",
   "name": "python",
   "nbconvert_exporter": "python",
   "pygments_lexer": "ipython3",
   "version": "3.6.6"
  }
 },
 "nbformat": 4,
 "nbformat_minor": 2
}
